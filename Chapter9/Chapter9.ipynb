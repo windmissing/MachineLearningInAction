{
 "cells": [
  {
   "cell_type": "code",
   "execution_count": 1,
   "metadata": {},
   "outputs": [],
   "source": [
    "import numpy as np"
   ]
  },
  {
   "cell_type": "code",
   "execution_count": 3,
   "metadata": {},
   "outputs": [],
   "source": [
    "def loadDataSet(fileName):\n",
    "    dataMat = []\n",
    "    fr = open(fileName)\n",
    "    for line in fr.readlines():\n",
    "        curLine = line.strip().split('\\t')\n",
    "        fltLine = map(float,curLine)  #???\n",
    "        dataMat.append(fltLine)   # X, y都在里面\n",
    "    return dataMat"
   ]
  },
  {
   "cell_type": "code",
   "execution_count": 4,
   "metadata": {},
   "outputs": [],
   "source": [
    "def binSplitDataSet(dataSet, feature, value):\n",
    "    mat0 = dataSet[dataSet[:,feature]>value]\n",
    "    mat1 = dataSet[dataSet[:,feature]<=value]\n",
    "    return mat0, mat1"
   ]
  },
  {
   "cell_type": "code",
   "execution_count": 6,
   "metadata": {},
   "outputs": [],
   "source": [
    "regLeaf,  regErr= 0, 0\n",
    "def createTree(dataSet, leafType=regLeaf, errType=regErr, ops=(1,4)):\n",
    "    feature, value = chooseBestSplit(dataSet, leafType, errType, ops)# Find the best feature to split on:\n",
    "    if feature == None: # If we can’t split the data\n",
    "        return value    # this node becomes a leaf node\n",
    "    retTree = {'feature':feature, 'value':value}\n",
    "    mat0, mat1 = binSplitDataSet(dataSet, feature, value) # Make a binary split of the data\n",
    "    retTree['left'] = createTree(mat0) # Call createTree() on the left split of the data\n",
    "    retTree['right'] = createTree(mat1) # Call createTree() on the right split of the data\n",
    "    return retTree"
   ]
  },
  {
   "cell_type": "code",
   "execution_count": null,
   "metadata": {},
   "outputs": [],
   "source": []
  }
 ],
 "metadata": {
  "kernelspec": {
   "display_name": "Python 3",
   "language": "python",
   "name": "python3"
  },
  "language_info": {
   "codemirror_mode": {
    "name": "ipython",
    "version": 3
   },
   "file_extension": ".py",
   "mimetype": "text/x-python",
   "name": "python",
   "nbconvert_exporter": "python",
   "pygments_lexer": "ipython3",
   "version": "3.7.3"
  }
 },
 "nbformat": 4,
 "nbformat_minor": 2
}
