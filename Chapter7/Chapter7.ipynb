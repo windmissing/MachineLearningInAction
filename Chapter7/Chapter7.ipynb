{
 "cells": [
  {
   "cell_type": "code",
   "execution_count": 1,
   "metadata": {},
   "outputs": [],
   "source": [
    "import adaboost\n",
    "import numpy as np"
   ]
  },
  {
   "cell_type": "code",
   "execution_count": 2,
   "metadata": {},
   "outputs": [],
   "source": [
    "datMat,classLabels=adaboost.loadSimpData()"
   ]
  },
  {
   "cell_type": "code",
   "execution_count": 3,
   "metadata": {},
   "outputs": [
    {
     "data": {
      "text/plain": [
       "matrix([[1. , 2.1],\n",
       "        [2. , 1.1],\n",
       "        [1.3, 1. ],\n",
       "        [1. , 1. ],\n",
       "        [2. , 1. ]])"
      ]
     },
     "execution_count": 3,
     "metadata": {},
     "output_type": "execute_result"
    }
   ],
   "source": [
    "datMat"
   ]
  },
  {
   "cell_type": "code",
   "execution_count": 4,
   "metadata": {},
   "outputs": [
    {
     "data": {
      "text/plain": [
       "[1.0, 1.0, -1.0, -1.0, 1.0]"
      ]
     },
     "execution_count": 4,
     "metadata": {},
     "output_type": "execute_result"
    }
   ],
   "source": [
    "classLabels"
   ]
  },
  {
   "cell_type": "code",
   "execution_count": 5,
   "metadata": {},
   "outputs": [],
   "source": [
    "D = np.ones(5)/5"
   ]
  },
  {
   "cell_type": "code",
   "execution_count": 6,
   "metadata": {},
   "outputs": [
    {
     "data": {
      "text/plain": [
       "({'feature': 0, 'value': 1.3, 'ineq': 'lt'},\n",
       " array([-1.,  1., -1., -1.,  1.]),\n",
       " 0.2)"
      ]
     },
     "execution_count": 6,
     "metadata": {},
     "output_type": "execute_result"
    }
   ],
   "source": [
    "adaboost.buildStump(datMat,classLabels,D)"
   ]
  },
  {
   "cell_type": "code",
   "execution_count": 7,
   "metadata": {},
   "outputs": [
    {
     "name": "stdout",
     "output_type": "stream",
     "text": [
      "D= [0.2 0.2 0.2 0.2 0.2]\n",
      "predict:  [-1.  1. -1. -1.  1.]\n",
      "aggpredict= [-0.69314718  0.69314718 -0.69314718 -0.69314718  0.69314718]\n",
      "total error:  0.2\n",
      "D= [0.5   0.125 0.125 0.125 0.125]\n",
      "predict:  [ 1.  1. -1. -1. -1.]\n",
      "aggpredict= [ 0.27980789  1.66610226 -1.66610226 -1.66610226 -0.27980789]\n",
      "total error:  0.2\n",
      "D= [0.28571429 0.07142857 0.07142857 0.07142857 0.5       ]\n",
      "predict:  [1. 1. 1. 1. 1.]\n",
      "aggpredict= [ 1.17568763  2.56198199 -0.77022252 -0.77022252  0.61607184]\n",
      "total error:  0.0\n"
     ]
    },
    {
     "data": {
      "text/plain": [
       "[{'feature': 0, 'value': 1.3, 'ineq': 'lt', 'alpha': 0.6931471805599453},\n",
       " {'feature': 1, 'value': 1.0, 'ineq': 'lt', 'alpha': 0.9729550745276565},\n",
       " {'feature': 0, 'value': 0.9, 'ineq': 'lt', 'alpha': 0.8958797346140273}]"
      ]
     },
     "execution_count": 7,
     "metadata": {},
     "output_type": "execute_result"
    }
   ],
   "source": [
    "adaboost.adaBoostTrainDS(datMat,classLabels,9)"
   ]
  },
  {
   "cell_type": "code",
   "execution_count": 8,
   "metadata": {},
   "outputs": [
    {
     "name": "stdout",
     "output_type": "stream",
     "text": [
      "D= [0.2 0.2 0.2 0.2 0.2]\n",
      "predict:  [-1.  1. -1. -1.  1.]\n",
      "aggpredict= [-0.69314718  0.69314718 -0.69314718 -0.69314718  0.69314718]\n",
      "total error:  0.2\n",
      "D= [0.5   0.125 0.125 0.125 0.125]\n",
      "predict:  [ 1.  1. -1. -1. -1.]\n",
      "aggpredict= [ 0.27980789  1.66610226 -1.66610226 -1.66610226 -0.27980789]\n",
      "total error:  0.2\n",
      "D= [0.28571429 0.07142857 0.07142857 0.07142857 0.5       ]\n",
      "predict:  [1. 1. 1. 1. 1.]\n",
      "aggpredict= [ 1.17568763  2.56198199 -0.77022252 -0.77022252  0.61607184]\n",
      "total error:  0.0\n"
     ]
    }
   ],
   "source": [
    "datArr,labelArr = adaboost.loadSimpData()\n",
    "classifierArr = adaboost.adaBoostTrainDS(datArr,labelArr,30)"
   ]
  },
  {
   "cell_type": "code",
   "execution_count": 9,
   "metadata": {},
   "outputs": [
    {
     "name": "stdout",
     "output_type": "stream",
     "text": [
      "[-2.56198199]\n"
     ]
    },
    {
     "data": {
      "text/plain": [
       "array([-1.])"
      ]
     },
     "execution_count": 9,
     "metadata": {},
     "output_type": "execute_result"
    }
   ],
   "source": [
    "adaboost.adaClassify([[0, 0]],classifierArr)   # 假设输入的是一组测试数据，所以第一个参数是个二维的数组"
   ]
  },
  {
   "cell_type": "code",
   "execution_count": 10,
   "metadata": {},
   "outputs": [
    {
     "name": "stdout",
     "output_type": "stream",
     "text": [
      "[ 2.56198199 -2.56198199]\n"
     ]
    },
    {
     "data": {
      "text/plain": [
       "array([ 1., -1.])"
      ]
     },
     "execution_count": 10,
     "metadata": {},
     "output_type": "execute_result"
    }
   ],
   "source": [
    "adaboost.adaClassify([[5, 5],[0,0]],classifierArr)"
   ]
  },
  {
   "cell_type": "code",
   "execution_count": null,
   "metadata": {},
   "outputs": [],
   "source": []
  },
  {
   "cell_type": "code",
   "execution_count": null,
   "metadata": {},
   "outputs": [],
   "source": []
  }
 ],
 "metadata": {
  "kernelspec": {
   "display_name": "Python 3",
   "language": "python",
   "name": "python3"
  },
  "language_info": {
   "codemirror_mode": {
    "name": "ipython",
    "version": 3
   },
   "file_extension": ".py",
   "mimetype": "text/x-python",
   "name": "python",
   "nbconvert_exporter": "python",
   "pygments_lexer": "ipython3",
   "version": "3.7.4"
  }
 },
 "nbformat": 4,
 "nbformat_minor": 2
}
