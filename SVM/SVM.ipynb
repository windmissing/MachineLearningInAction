{
 "cells": [
  {
   "cell_type": "markdown",
   "metadata": {},
   "source": [
    "SVM的原理：  \n",
    "https://windmising.gitbook.io/liu-yu-bo-play-with-machine-learning/di-shi-yi-zhang-zhi-cheng-xiang-liang-ji-svm"
   ]
  },
  {
   "cell_type": "code",
   "execution_count": 1,
   "metadata": {},
   "outputs": [],
   "source": [
    "from SimpleSMO import SimpleSMO\n",
    "from PlattSMO import PlattSMO\n",
    "import utils\n",
    "import kernel"
   ]
  },
  {
   "cell_type": "markdown",
   "metadata": {},
   "source": [
    "# 简化版SMO算法"
   ]
  },
  {
   "cell_type": "code",
   "execution_count": 2,
   "metadata": {},
   "outputs": [
    {
     "data": {
      "text/plain": [
       "array([-1., -1.,  1., -1.,  1.,  1.,  1., -1., -1., -1.])"
      ]
     },
     "execution_count": 2,
     "metadata": {},
     "output_type": "execute_result"
    }
   ],
   "source": [
    "dataArr, labelArr = utils.loadDataSet('testSet.txt')\n",
    "labelArr[:10]"
   ]
  },
  {
   "cell_type": "markdown",
   "metadata": {},
   "source": [
    "Expect Result:  \n",
    "array([-1., -1.,  1., -1.,  1.,  1.,  1., -1., -1., -1.])  \n",
    "\n",
    "labelArr分为两类，分别是1和-1。  "
   ]
  },
  {
   "cell_type": "code",
   "execution_count": 3,
   "metadata": {},
   "outputs": [
    {
     "name": "stdout",
     "output_type": "stream",
     "text": [
      "Wall time: 1.99 s\n"
     ]
    }
   ],
   "source": [
    "%%time\n",
    "simple = SimpleSMO(C = 0.6, toler = 0.001, maxIter = 40)\n",
    "b,alphas = simple.train(dataArr, labelArr)\n",
    "w = simple.get_w(alphas, dataArr, labelArr)"
   ]
  },
  {
   "cell_type": "code",
   "execution_count": 4,
   "metadata": {},
   "outputs": [
    {
     "name": "stdout",
     "output_type": "stream",
     "text": [
      "w =  [ 0.81425078 -0.27173749]\n",
      "b =  -3.8372842889994776\n",
      "alphas =  [[1.81241093e-02 3.42760235e-01 2.08166817e-17 1.39537210e-01\n",
      "  2.21347134e-01]]\n",
      "support vectors = \n",
      "[4.658191 3.507396] -1.0\n",
      "[ 3.457096 -0.082216] -1.0\n",
      "[ 5.286862 -2.358286] 1.0\n",
      "[6.080573 0.418886] 1.0\n"
     ]
    }
   ],
   "source": [
    "print (\"w = \", w)\n",
    "print (\"b = \", b)\n",
    "print (\"alphas = \", alphas[alphas>0])\n",
    "print (\"support vectors = \")\n",
    "# 打印支撑向量\n",
    "for i in range(100):\n",
    "    if alphas[i]>1e-3: print( dataArr[i],labelArr[i])"
   ]
  },
  {
   "cell_type": "markdown",
   "metadata": {},
   "source": [
    "w =  [ 0.81425078 -0.27173749]  \n",
    "b =  -3.8372842889994776  \n",
    "alphas =  [[1.81241093e-02 3.42760235e-01 2.08166817e-17 1.39537210e-01\n",
    "  2.21347134e-01]]  \n",
    "support vectors =   \n",
    "[4.658191 3.507396] -1.0  \n",
    "[ 3.457096 -0.082216] -1.0  \n",
    "[ 5.286862 -2.358286] 1.0  \n",
    "[6.080573 0.418886] 1.0"
   ]
  },
  {
   "cell_type": "code",
   "execution_count": 5,
   "metadata": {},
   "outputs": [
    {
     "data": {
      "image/png": "[encoded data removed]",
      "text/plain": [
       "<Figure size 432x288 with 1 Axes>"
      ]
     },
     "metadata": {
      "needs_background": "light"
     },
     "output_type": "display_data"
    }
   ],
   "source": [
    "utils.showSMO(dataArr, labelArr, alphas, w, b)"
   ]
  },
  {
   "cell_type": "markdown",
   "metadata": {},
   "source": [
    "# Platt加速的SMO算法"
   ]
  },
  {
   "cell_type": "code",
   "execution_count": 6,
   "metadata": {},
   "outputs": [],
   "source": [
    "dataArr,labelArr = utils.loadDataSet('testSet.txt')\n",
    "platt = PlattSMO(0.6, 0.001, 40)\n",
    "oS = platt.train(dataArr, labelArr)"
   ]
  },
  {
   "cell_type": "markdown",
   "metadata": {},
   "source": [
    "Expect Result:  \n",
    "\n",
    "如果开启verbose，还可以看到以下内容  \n",
    "iter: 1 i:99, pairs changed 4  \n",
    "iter: 2 i:46, pairs changed 0  \n",
    "iter: 3 i:99, pairs changed 5  \n",
    "iter: 4 i:97, pairs changed 2  \n",
    "iter: 5 i:97, pairs changed 1  \n",
    "iter: 6 i:97, pairs changed 1  \n",
    "iter: 7 i:97, pairs changed 4  \n",
    "iter: 8 i:97, pairs changed 1  \n",
    "iter: 9 i:97, pairs changed 2  \n",
    "iter: 10 i:97, pairs changed 2  \n",
    "iter: 11 i:97, pairs changed 1  \n",
    "iter: 12 i:97, pairs changed 2  \n",
    "iter: 13 i:97, pairs changed 0  \n",
    "iter: 14 i:99, pairs changed 3  \n",
    "iter: 15 i:97, pairs changed 0  \n",
    "iter: 16 i:99, pairs changed 0"
   ]
  },
  {
   "cell_type": "code",
   "execution_count": 7,
   "metadata": {},
   "outputs": [
    {
     "name": "stdout",
     "output_type": "stream",
     "text": [
      "w =  [ 0.62172526 -0.2926272 ]\n",
      "b =  -2.8697555652712596\n",
      "alphas =  [[0.13853542 0.0019828  0.00530804 0.05671226 0.00327745 0.04086031\n",
      "  0.04639355 0.07897462 0.06396156 0.02437407]]\n",
      "support vectors = \n",
      "[3.634009 1.730537] -1.0\n",
      "[4.658191 3.507396] -1.0\n",
      "[ 3.223038 -0.552392] -1.0\n",
      "[ 3.457096 -0.082216] -1.0\n",
      "[ 3.023938 -0.057392] -1.0\n",
      "[ 6.960661 -0.245353] 1.0\n",
      "[ 5.286862 -2.358286] 1.0\n",
      "[6.080573 0.418886] 1.0\n",
      "[6.543888 0.433164] 1.0\n",
      "[ 2.912122 -0.202359] -1.0\n"
     ]
    }
   ],
   "source": [
    "b,alphas = oS.b, oS.alphas\n",
    "w = simple.get_w(alphas, dataArr, labelArr)\n",
    "print (\"w = \", w)\n",
    "print (\"b = \", b)\n",
    "print (\"alphas = \", alphas[alphas>0])\n",
    "print (\"support vectors = \")\n",
    "# 打印支撑向量\n",
    "for i in range(100):\n",
    "    if alphas[i]>1e-3: print( dataArr[i],labelArr[i])"
   ]
  },
  {
   "cell_type": "markdown",
   "metadata": {},
   "source": [
    "Expect Result:  \n",
    "\n",
    "w =  [ 0.62172526 -0.2926272 ]  \n",
    "b =  -2.8697555652712596  \n",
    "alphas =  [[0.13853542 0.0019828  0.00530804 0.05671226 0.00327745 0.04086031\n",
    "  0.04639355 0.07897462 0.06396156 0.02437407]]  \n",
    "\n",
    "support vectors =   \n",
    "[3.634009 1.730537] -1.0  \n",
    "[4.658191 3.507396] -1.0  \n",
    "[ 3.223038 -0.552392] -1.0  \n",
    "[ 3.457096 -0.082216] -1.0  \n",
    "[ 3.023938 -0.057392] -1.0  \n",
    "[ 6.960661 -0.245353] 1.0  \n",
    "[ 5.286862 -2.358286] 1.0  \n",
    "[6.080573 0.418886] 1.0  \n",
    "[6.543888 0.433164] 1.0  \n",
    "[ 2.912122 -0.202359] -1.0  "
   ]
  },
  {
   "cell_type": "code",
   "execution_count": 8,
   "metadata": {},
   "outputs": [
    {
     "data": {
      "image/png": "[encoded data removed]",
      "text/plain": [
       "<Figure size 432x288 with 1 Axes>"
      ]
     },
     "metadata": {
      "needs_background": "light"
     },
     "output_type": "display_data"
    }
   ],
   "source": [
    "utils.showSMO(dataArr,labelArr, alphas, w, b)"
   ]
  },
  {
   "cell_type": "markdown",
   "metadata": {},
   "source": [
    "# RBF kernel\n",
    "\n",
    "gaussian kernel:  \n",
    "$$\n",
    "k(x, y) = \\exp (\\frac {-||x-y||^2}{2\\sigma^2})\n",
    "$$"
   ]
  },
  {
   "cell_type": "code",
   "execution_count": 9,
   "metadata": {},
   "outputs": [],
   "source": [
    "sigma=1.3\n",
    "dataArr, labelArr = utils.loadDataSet('testSetRBF.txt')\n",
    "platt = PlattSMO(200, 0.0001, 100, kernel = kernel.gaussianKernel, sigma=sigma)\n",
    "oS = platt.train(dataArr, labelArr)\n",
    "platt.collectCoeff(oS)"
   ]
  },
  {
   "cell_type": "code",
   "execution_count": 10,
   "metadata": {},
   "outputs": [],
   "source": [
    "# import numpy as np\n",
    "# b, alphas = oS.b, oS.alphas.T.A[0]\n",
    "# svInd = alphas > 1e-3\n",
    "# datMat = np.array(dataArr);\n",
    "# labelMat = np.array(labelArr).transpose()\n",
    "# supportVectors = datMat[alphas > 1e-3]\n",
    "# labelSV = labelMat[svInd]\n",
    "# utils.testWithFile('testSetRBF.txt', supportVectors, labelSV, alphas, svInd, b,sigma=1.3)"
   ]
  },
  {
   "cell_type": "code",
   "execution_count": 11,
   "metadata": {},
   "outputs": [
    {
     "name": "stdout",
     "output_type": "stream",
     "text": [
      "accuracy =  1.0\n"
     ]
    }
   ],
   "source": [
    "test_X, test_y = utils.loadDataSet('testSetRBF.txt')\n",
    "predict_y = platt.classify(test_X)\n",
    "accuracy = utils.calculateAccuray(predict_y, test_y)\n",
    "print(\"accuracy = \", accuracy)"
   ]
  },
  {
   "cell_type": "markdown",
   "metadata": {},
   "source": [
    "Expect Result:  \n",
    "\n",
    "accuracy =  1.0  \n",
    "\n",
    "开启verbose可见到以下打印\n",
    "there are 12 Support Vectors  \n",
    "w =  [-4.03558965 -2.68195953]  \n",
    "b =  -10.97366054782148  \n",
    "alphas =  [[2.74385992e+00 2.22044605e-16 1.11022302e-15 2.44375793e+01  \n",
    "  1.14741724e+01 5.77315973e-15 2.42722453e+00 3.33066907e-16  \n",
    "  4.75813884e+01 4.46799894e+01 1.18641142e+02 8.88178420e-16  \n",
    "  7.20968395e+01 6.99070950e+00 1.99521964e+01 2.45163542e+01  \n",
    "  6.87872454e+01 4.44089210e-16]]   \n",
    "support vectors =    \n",
    "[-0.557789  0.375797] -1.0  \n",
    "[-0.475167 -0.346247] -1.0  \n",
    "[ 0.394164 -0.058217] 1.0  \n",
    "[-0.403483  0.474466] -1.0  \n",
    "[-0.012998  0.525985] -1.0  \n",
    "[0.153738 0.491531] -1.0  \n",
    "[0.068286 0.392741] 1.0  \n",
    "[ 0.3843  -0.17657] 1.0  \n",
    "[-0.307768  0.503038] -1.0  \n",
    "[-0.448939  0.176725] 1.0  \n",
    "[0.334204 0.381237] -1.0  \n",
    "[ 0.541359 -0.205969] -1.0  "
   ]
  },
  {
   "cell_type": "code",
   "execution_count": 12,
   "metadata": {},
   "outputs": [
    {
     "name": "stdout",
     "output_type": "stream",
     "text": [
      "accuracy =  0.94\n"
     ]
    }
   ],
   "source": [
    "test_X, test_y = utils.loadDataSet('testSetRBF2.txt')\n",
    "predict_y = platt.classify(test_X)\n",
    "accuracy = utils.calculateAccuray(predict_y, test_y)\n",
    "print(\"accuracy = \", accuracy)"
   ]
  },
  {
   "cell_type": "markdown",
   "metadata": {},
   "source": [
    "Expect Result:  \n",
    "accuracy = 0.94"
   ]
  },
  {
   "cell_type": "markdown",
   "metadata": {},
   "source": [
    "# 手写数字识别"
   ]
  },
  {
   "cell_type": "code",
   "execution_count": 13,
   "metadata": {},
   "outputs": [],
   "source": [
    "sigma = 10\n",
    "dataArr,labelArr = utils.loadImages('trainingDigits')\n",
    "platt = PlattSMO(200, 0.0001, 10, kernel = kernel.gaussianKernel, sigma=sigma)\n",
    "oS = platt.train(dataArr, labelArr)\n",
    "platt.collectCoeff(oS)"
   ]
  },
  {
   "cell_type": "code",
   "execution_count": 14,
   "metadata": {},
   "outputs": [
    {
     "name": "stdout",
     "output_type": "stream",
     "text": [
      "accuracy =  1.0\n"
     ]
    }
   ],
   "source": [
    "test_X, test_y = utils.loadImages('trainingDigits')\n",
    "predict_y = platt.classify(test_X)\n",
    "accuracy = utils.calculateAccuray(predict_y, test_y)\n",
    "print(\"accuracy = \", accuracy)"
   ]
  },
  {
   "cell_type": "markdown",
   "metadata": {},
   "source": [
    "Expect Result:  \n",
    "accuracy =  1.0"
   ]
  },
  {
   "cell_type": "code",
   "execution_count": 15,
   "metadata": {},
   "outputs": [
    {
     "name": "stdout",
     "output_type": "stream",
     "text": [
      "accuracy =  0.9946236559139785\n"
     ]
    }
   ],
   "source": [
    "test_X, test_y = utils.loadImages('testDigits')\n",
    "predict_y = platt.classify(test_X)\n",
    "accuracy = utils.calculateAccuray(predict_y, test_y)\n",
    "print(\"accuracy = \", accuracy)"
   ]
  },
  {
   "cell_type": "markdown",
   "metadata": {},
   "source": [
    "Expect Result:  \n",
    "accuracy =  0.9946236559139785"
   ]
  }
 ],
 "metadata": {
  "kernelspec": {
   "display_name": "Python 3",
   "language": "python",
   "name": "python3"
  },
  "language_info": {
   "codemirror_mode": {
    "name": "ipython",
    "version": 3
   },
   "file_extension": ".py",
   "mimetype": "text/x-python",
   "name": "python",
   "nbconvert_exporter": "python",
   "pygments_lexer": "ipython3",
   "version": "3.7.3"
  }
 },
 "nbformat": 4,
 "nbformat_minor": 2
}
