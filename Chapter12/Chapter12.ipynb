{
 "cells": [
  {
   "cell_type": "code",
   "execution_count": 1,
   "metadata": {},
   "outputs": [],
   "source": [
    "import numpy as np"
   ]
  },
  {
   "cell_type": "code",
   "execution_count": 2,
   "metadata": {},
   "outputs": [],
   "source": [
    "class treeNode:\n",
    "    def __init__(self, nameValue, numOccur, parentNode):\n",
    "        self.name = nameValue\n",
    "        self.count = numOccur\n",
    "        self.nodeLink = None   # link similar items (the dashed lines in figure 12.1)\n",
    "        self.parent = parentNode\n",
    "        self.children = {}     # an empty dictionary for the children of this node\n",
    "        \n",
    "    #  increments the  count variable by a given amount\n",
    "    def inc(self, numOccur):\n",
    "        self.count += numOccur\n",
    "    \n",
    "    # display the tree in text, for debugging\n",
    "    def disp(self, ind=1):\n",
    "        print (' '*ind, self.name, ' ', self.count)  # 左对齐显示\n",
    "        for child in self.children.values():\n",
    "            child.disp(ind+1)"
   ]
  },
  {
   "cell_type": "code",
   "execution_count": 4,
   "metadata": {},
   "outputs": [
    {
     "name": "stdout",
     "output_type": "stream",
     "text": [
      "  pyramid   9\n",
      "   eye   13\n"
     ]
    }
   ],
   "source": [
    "rootNode = treeNode('pyramid',9, None)\n",
    "rootNode.children['eye']=treeNode('eye', 13, None)\n",
    "rootNode.disp()"
   ]
  },
  {
   "cell_type": "code",
   "execution_count": 5,
   "metadata": {},
   "outputs": [
    {
     "name": "stdout",
     "output_type": "stream",
     "text": [
      "  pyramid   9\n",
      "   eye   13\n",
      "   phoenix   3\n"
     ]
    }
   ],
   "source": [
    "rootNode.children['phoenix']=treeNode('phoenix', 3, None)\n",
    "rootNode.disp()"
   ]
  },
  {
   "cell_type": "code",
   "execution_count": 142,
   "metadata": {},
   "outputs": [],
   "source": [
    "def createTree(dataSet, minSup=1):\n",
    "    itemCount, headerTable = {}, {}\n",
    "    # The first pass goes through everything in the dataset and counts the frequency of each term. \n",
    "    for transaction in dataSet:\n",
    "        for item in transaction:\n",
    "            itemCount[item] = itemCount.get(item, 0) + 1# dataSet[trans]\n",
    "    print ('item count = ', itemCount)\n",
    "    # the header table is scanned and items occurring less than  minSup are deleted.\n",
    "    for key in itemCount.keys():\n",
    "        if itemCount[key] >= minSup:\n",
    "            headerTable[key] = [itemCount[key], None] # he header table hold a count and pointer to the first item of each type.\n",
    "    print ('headerTable = ',headerTable)\n",
    "    # create the base node, which contains the null set Ø\n",
    "    rootNode = treeNode('Null Set', 1, None)\n",
    "    # iterate over the dataset again\n",
    "    for transaction in dataSet:\n",
    "        # 把frequent低的item过滤掉\n",
    "        localD = []\n",
    "        for item in transaction:\n",
    "            if item in headerTable: # 在headerTable中的都是Frequent达到要求的\n",
    "                localD.append(item)\n",
    "        # 过滤之后排序  \n",
    "        localD.sort(key=lambda k:(headerTable[k][0]), reverse=True)\n",
    "        #print ('localD = ', localD)\n",
    "        # 将得到的新的Transaction插入到tree中\n",
    "        node = rootNode\n",
    "       \n",
    "        for item in localD:\n",
    "            node = updateTree(item, node, headerTable, 1)\n",
    "        #print ('tree after one transaction', rootNode.disp())\n",
    "    return rootNode, headerTable\n",
    "\n",
    "# 把item插入到以node为父结点的树中\n",
    "def updateTree(item, node, headerTable, count):\n",
    "    if item in node.children:\n",
    "        node.children[item].count+=1\n",
    "    else:\n",
    "        node.children[item] = treeNode(item, count, node)\n",
    "        if headerTable[item][1] == None:\n",
    "            headerTable[item][1] = node.children[item]\n",
    "        else:\n",
    "            updateHeader(headerTable[item][1], node.children[item])\n",
    "    return node.children[item]\n",
    "\n",
    "# headerTable和后面结点的nodeLink组成一个单链表\n",
    "def updateHeader(nodeToTest, targetNode):\n",
    "    while nodeToTest.nodeLink != None:\n",
    "        nodeToTest = nodeToTest.nodeLink\n",
    "    nodeToTest.nodeLink = targetNode"
   ]
  },
  {
   "cell_type": "code",
   "execution_count": 143,
   "metadata": {},
   "outputs": [],
   "source": [
    "def loadSimpDat():\n",
    "    simpDat = [['r', 'z', 'h', 'j', 'p'],\n",
    "    ['z', 'y', 'x', 'w', 'v', 'u', 't', 's'],\n",
    "    ['z'],\n",
    "    ['r', 'x', 'n', 'o', 's'],\n",
    "    ['y', 'r', 'x', 'z', 'q', 't', 'p'],\n",
    "    ['y', 'z', 'x', 'e', 'q', 's', 't', 'm']]\n",
    "    return simpDat"
   ]
  },
  {
   "cell_type": "code",
   "execution_count": 144,
   "metadata": {},
   "outputs": [],
   "source": [
    "def createInitSet(dataSet):\n",
    "    retDict = {}\n",
    "    for trans in dataSet:\n",
    "        retDict[frozenset(trans)] = 1\n",
    "    return retDict"
   ]
  },
  {
   "cell_type": "code",
   "execution_count": 145,
   "metadata": {},
   "outputs": [
    {
     "data": {
      "text/plain": [
       "[['r', 'z', 'h', 'j', 'p'],\n",
       " ['z', 'y', 'x', 'w', 'v', 'u', 't', 's'],\n",
       " ['z'],\n",
       " ['r', 'x', 'n', 'o', 's'],\n",
       " ['y', 'r', 'x', 'z', 'q', 't', 'p'],\n",
       " ['y', 'z', 'x', 'e', 'q', 's', 't', 'm']]"
      ]
     },
     "execution_count": 145,
     "metadata": {},
     "output_type": "execute_result"
    }
   ],
   "source": [
    "simpDat = loadSimpDat()\n",
    "simpDat"
   ]
  },
  {
   "cell_type": "code",
   "execution_count": 146,
   "metadata": {},
   "outputs": [
    {
     "data": {
      "text/plain": [
       "{frozenset({'h', 'j', 'p', 'r', 'z'}): 1,\n",
       " frozenset({'s', 't', 'u', 'v', 'w', 'x', 'y', 'z'}): 1,\n",
       " frozenset({'z'}): 1,\n",
       " frozenset({'n', 'o', 'r', 's', 'x'}): 1,\n",
       " frozenset({'p', 'q', 'r', 't', 'x', 'y', 'z'}): 1,\n",
       " frozenset({'e', 'm', 'q', 's', 't', 'x', 'y', 'z'}): 1}"
      ]
     },
     "execution_count": 146,
     "metadata": {},
     "output_type": "execute_result"
    }
   ],
   "source": [
    "initSet = createInitSet(simpDat) # 为什么要转成frozenset？\n",
    "initSet"
   ]
  },
  {
   "cell_type": "code",
   "execution_count": 147,
   "metadata": {},
   "outputs": [
    {
     "name": "stdout",
     "output_type": "stream",
     "text": [
      "item count =  {'z': 5, 'j': 1, 'r': 3, 'p': 2, 'h': 1, 'u': 1, 'x': 4, 'v': 1, 't': 3, 'y': 3, 'w': 1, 's': 3, 'o': 1, 'n': 1, 'q': 2, 'm': 1, 'e': 1}\n",
      "headerTable =  {'z': [5, None], 'r': [3, None], 'x': [4, None], 't': [3, None], 'y': [3, None], 's': [3, None]}\n"
     ]
    }
   ],
   "source": [
    "myFPtree, myHeaderTab = createTree(initSet, 3)"
   ]
  },
  {
   "cell_type": "code",
   "execution_count": 148,
   "metadata": {},
   "outputs": [
    {
     "name": "stdout",
     "output_type": "stream",
     "text": [
      "  Null Set   1\n",
      "   z   5\n",
      "    r   1\n",
      "    x   3\n",
      "     t   3\n",
      "      y   3\n",
      "       s   2\n",
      "       r   1\n",
      "   x   1\n",
      "    r   1\n",
      "     s   1\n"
     ]
    }
   ],
   "source": [
    "myFPtree.disp() # 对相同Frequent的item，排序结果与书上不同，导致树与书上不同"
   ]
  },
  {
   "cell_type": "code",
   "execution_count": 110,
   "metadata": {},
   "outputs": [
    {
     "data": {
      "text/plain": [
       "{'z': [5, <__main__.treeNode at 0x171a1f044c8>],\n",
       " 'r': [3, <__main__.treeNode at 0x171a1f04388>],\n",
       " 'x': [4, <__main__.treeNode at 0x171a24e92c8>],\n",
       " 't': [3, <__main__.treeNode at 0x171a1c231c8>],\n",
       " 'y': [3, <__main__.treeNode at 0x171a1c23488>],\n",
       " 's': [3, <__main__.treeNode at 0x171a1c23d48>]}"
      ]
     },
     "execution_count": 110,
     "metadata": {},
     "output_type": "execute_result"
    }
   ],
   "source": [
    "myHeaderTab"
   ]
  },
  {
   "cell_type": "code",
   "execution_count": 153,
   "metadata": {},
   "outputs": [],
   "source": [
    "def ascendTree(treeNode):  # 这个node不一定是leaf\n",
    "    prefix = []\n",
    "    while(treeNode.parent != None):\n",
    "        prefix.append(treeNode.name)\n",
    "        treeNode = treeNode.parent\n",
    "    return prefix\n",
    "\n",
    "# basePath: 暂时没用上\n",
    "# treeNode: headTable[item]\n",
    "def findPrefixPath(basePath, treeNode):\n",
    "    prefixPaths = {}\n",
    "    while(treeNode != None):\n",
    "        prefix = ascendTree(treeNode)\n",
    "        if len(prefix) > 1:\n",
    "            prefixPaths[frozenset(prefix[1:])] = treeNode.count\n",
    "        treeNode = treeNode.nodeLink\n",
    "    return prefixPaths"
   ]
  },
  {
   "cell_type": "code",
   "execution_count": 154,
   "metadata": {},
   "outputs": [
    {
     "data": {
      "text/plain": [
       "{frozenset({'z'}): 3}"
      ]
     },
     "execution_count": 154,
     "metadata": {},
     "output_type": "execute_result"
    }
   ],
   "source": [
    "# myHeaderTab是个set\n",
    "# set的key是一个item，set的value是个list\n",
    "# list的第0个元素是这个item的count，第1个元素是这个item的第一个node的link\n",
    "findPrefixPath('x', myHeaderTab['x'][1])"
   ]
  },
  {
   "cell_type": "code",
   "execution_count": 155,
   "metadata": {},
   "outputs": [
    {
     "data": {
      "text/plain": [
       "{}"
      ]
     },
     "execution_count": 155,
     "metadata": {},
     "output_type": "execute_result"
    }
   ],
   "source": [
    "findPrefixPath('z', myHeaderTab['z'][1])"
   ]
  },
  {
   "cell_type": "code",
   "execution_count": 156,
   "metadata": {},
   "outputs": [
    {
     "data": {
      "text/plain": [
       "{frozenset({'z'}): 1, frozenset({'x'}): 1, frozenset({'t', 'x', 'y', 'z'}): 1}"
      ]
     },
     "execution_count": 156,
     "metadata": {},
     "output_type": "execute_result"
    }
   ],
   "source": [
    "findPrefixPath('r', myHeaderTab['r'][1]) #生成的树不同，导致path不同"
   ]
  },
  {
   "cell_type": "code",
   "execution_count": 163,
   "metadata": {},
   "outputs": [],
   "source": [
    "# freqItemList：所有满足minSup的Set都存到这里\n",
    "def mineTree(inTree, headerTable, minSup, preFix, freqItemList):\n",
    "    # sorting the items in the header table by their frequency of occurrence\n",
    "    sortedKey = [item[0] for item in sorted(headerTable.items(),key=lambda p: p[0])]\n",
    "    # Construct cond. FP-tree from cond. pattern base\n",
    "    for key in sortedKey:\n",
    "        # preFix和{preFix,key}都是满足minSup的set，应该都存在于freqItemList的中，因为要copy\n",
    "        # 如果不copy，freqItemList中只有{preFix,key}，而preFix就丢失了\n",
    "        newFreqSet = preFix.copy()\n",
    "        newFreqSet.add(key)\n",
    "        # each frequent item is added to your list of frequent itemsets\n",
    "        freqItemList.append(newFreqSet)\n",
    "        \n",
    "        # 新的一轮迭代\n",
    "        # create a conditional base\n",
    "        condPattBases = findPrefixPath(key, headerTable[key][1])\n",
    "        print(key, condPattBases)\n",
    "        # This conditional base is treated as a new dataset and fed to  createTree() \n",
    "        myCondTree, myHead = createTree(condPattBases,minSup)\n",
    "        # Mine cond. FP-tree\n",
    "        if myHead != None:\n",
    "            mineTree(myCondTree, myHead, minSup, newFreqSet, freqItemList)"
   ]
  },
  {
   "cell_type": "code",
   "execution_count": null,
   "metadata": {},
   "outputs": [],
   "source": [
    "# createTree假设所有Data出现即frequency+1\n",
    "# 在现在的应该场景中，dataSet的每一项是个dict，dict的Value说明dict的key中的data出现一次代表frequency+几\n",
    "def createTree_2(dataSet, minSup=1):\n",
    "    itemCount, headerTable = {}, {}\n",
    "    # The first pass goes through everything in the dataset and counts the frequency of each term. \n",
    "    for transaction in dataSet:\n",
    "        for item in transaction:\n",
    "            itemCount[item] = itemCount.get(item, 0) + 1# dataSet[trans]\n",
    "    print ('item count = ', itemCount)\n",
    "    # the header table is scanned and items occurring less than  minSup are deleted.\n",
    "    for key in itemCount.keys():\n",
    "        if itemCount[key] >= minSup:\n",
    "            headerTable[key] = [itemCount[key], None] # he header table hold a count and pointer to the first item of each type.\n",
    "    print ('headerTable = ',headerTable)\n",
    "    # create the base node, which contains the null set Ø\n",
    "    rootNode = treeNode('Null Set', 1, None)\n",
    "    # iterate over the dataset again\n",
    "    for transaction in dataSet:\n",
    "        # 把frequent低的item过滤掉\n",
    "        localD = []\n",
    "        for item in transaction:\n",
    "            if item in headerTable: # 在headerTable中的都是Frequent达到要求的\n",
    "                localD.append(item)\n",
    "        # 过滤之后排序  \n",
    "        localD.sort(key=lambda k:(headerTable[k][0]), reverse=True)\n",
    "        #print ('localD = ', localD)\n",
    "        # 将得到的新的Transaction插入到tree中\n",
    "        node = rootNode\n",
    "       \n",
    "        for item in localD:\n",
    "            node = updateTree(item, node, headerTable, 1)\n",
    "        #print ('tree after one transaction', rootNode.disp())\n",
    "    return rootNode, headerTable\n",
    "\n",
    "# 把item插入到以node为父结点的树中\n",
    "def updateTree(item, node, headerTable, count):\n",
    "    if item in node.children:\n",
    "        node.children[item].count+=1\n",
    "    else:\n",
    "        node.children[item] = treeNode(item, count, node)\n",
    "        if headerTable[item][1] == None:\n",
    "            headerTable[item][1] = node.children[item]\n",
    "        else:\n",
    "            updateHeader(headerTable[item][1], node.children[item])\n",
    "    return node.children[item]\n",
    "\n",
    "# headerTable和后面结点的nodeLink组成一个单链表\n",
    "def updateHeader(nodeToTest, targetNode):\n",
    "    while nodeToTest.nodeLink != None:\n",
    "        nodeToTest = nodeToTest.nodeLink\n",
    "    nodeToTest.nodeLink = targetNode"
   ]
  },
  {
   "cell_type": "code",
   "execution_count": 164,
   "metadata": {},
   "outputs": [
    {
     "name": "stdout",
     "output_type": "stream",
     "text": [
      "r {frozenset({'z'}): 1, frozenset({'x'}): 1, frozenset({'y', 'z', 't', 'x'}): 1}\n",
      "item count =  {'z': 2, 'x': 2, 'y': 1, 't': 1}\n",
      "headerTable =  {}\n",
      "s {frozenset({'y', 'z', 't', 'x'}): 2, frozenset({'x', 'r'}): 1}\n",
      "item count =  {'y': 1, 'z': 1, 't': 1, 'x': 2, 'r': 1}\n",
      "headerTable =  {}\n",
      "t {frozenset({'z', 'x'}): 3}\n",
      "item count =  {'z': 1, 'x': 1}\n",
      "headerTable =  {}\n",
      "x {frozenset({'z'}): 3}\n",
      "item count =  {'z': 1}\n",
      "headerTable =  {}\n",
      "y {frozenset({'z', 't', 'x'}): 3}\n",
      "item count =  {'z': 1, 't': 1, 'x': 1}\n",
      "headerTable =  {}\n",
      "z {}\n",
      "item count =  {}\n",
      "headerTable =  {}\n"
     ]
    }
   ],
   "source": [
    "freqItems = []\n",
    "mineTree(myFPtree, myHeaderTab, 3, set([]), freqItems)"
   ]
  },
  {
   "cell_type": "code",
   "execution_count": null,
   "metadata": {},
   "outputs": [],
   "source": []
  }
 ],
 "metadata": {
  "kernelspec": {
   "display_name": "Python 3",
   "language": "python",
   "name": "python3"
  },
  "language_info": {
   "codemirror_mode": {
    "name": "ipython",
    "version": 3
   },
   "file_extension": ".py",
   "mimetype": "text/x-python",
   "name": "python",
   "nbconvert_exporter": "python",
   "pygments_lexer": "ipython3",
   "version": "3.7.4"
  }
 },
 "nbformat": 4,
 "nbformat_minor": 2
}
