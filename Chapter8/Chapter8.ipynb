{
 "cells": [
  {
   "cell_type": "code",
   "execution_count": 1,
   "metadata": {},
   "outputs": [],
   "source": [
    "import regression\n",
    "import numpy as np"
   ]
  },
  {
   "cell_type": "code",
   "execution_count": 2,
   "metadata": {},
   "outputs": [],
   "source": [
    "def loadDataSet(fileName):\n",
    "    dataMat = []\n",
    "    labelMat = []\n",
    "    for line in open(fileName).readlines():\n",
    "        dataList = [float(data) for data in line.strip().split('\\t')]\n",
    "        dataMat.append(dataList[0:-1])\n",
    "        labelMat.append(dataList[-1])\n",
    "    return dataMat, labelMat"
   ]
  },
  {
   "cell_type": "code",
   "execution_count": 13,
   "metadata": {},
   "outputs": [],
   "source": [
    "def standRegres(xArr,yArr):\n",
    "    X, y = np.array(xArr), np.array(yArr)\n",
    "    xTx = X.T.dot(X)\n",
    "    if np.linalg.det(xTx) == 0.0:\n",
    "        print(\"This matrix is singular, cannot do inverse\")\n",
    "        return\n",
    "    ws = np.mat(xTx).I.dot(X.T).dot(y)\n",
    "    return ws.T"
   ]
  },
  {
   "cell_type": "code",
   "execution_count": 14,
   "metadata": {},
   "outputs": [],
   "source": [
    "xArr,yArr=loadDataSet('ex0.txt')"
   ]
  },
  {
   "cell_type": "code",
   "execution_count": 15,
   "metadata": {},
   "outputs": [
    {
     "data": {
      "text/plain": [
       "[[1.0, 0.067732], [1.0, 0.42781]]"
      ]
     },
     "execution_count": 15,
     "metadata": {},
     "output_type": "execute_result"
    }
   ],
   "source": [
    "xArr[0:2]"
   ]
  },
  {
   "cell_type": "code",
   "execution_count": 27,
   "metadata": {},
   "outputs": [],
   "source": [
    "ws = standRegres(xArr,yArr)"
   ]
  },
  {
   "cell_type": "code",
   "execution_count": 33,
   "metadata": {},
   "outputs": [
    {
     "name": "stdout",
     "output_type": "stream",
     "text": [
      "[[3.176513 3.816464 4.550095 4.256571 4.560815 3.929515 3.52617  3.156393\n",
      "  3.110301 3.149813 3.476346 4.119688 4.282233 3.486582 4.655492 3.965162\n",
      "  3.5149   3.125947 4.094115 3.476039 3.21061  3.190612 4.631504 4.29589\n",
      "  3.085028 3.44808  3.16744  3.364266 3.993482 3.891471 3.143259 3.114204\n",
      "  3.851484 4.621899 4.580768 3.620992 3.580501 4.618706 3.676867 4.641845\n",
      "  3.175939 4.26498  3.558448 3.436632 3.831052 3.182853 3.498906 3.946833\n",
      "  3.900583 4.238522 4.23308  3.521557 3.203344 4.278105 3.555705 3.502661\n",
      "  3.859776 4.275956 3.916191 3.587961 3.183004 4.225236 4.231083 4.240544\n",
      "  3.222372 4.021445 3.567479 3.56258  4.262059 3.208813 3.169825 4.193949\n",
      "  3.491678 4.533306 3.550108 4.636427 3.557078 3.552874 3.494159 3.206828\n",
      "  3.195266 4.221292 4.413372 4.184347 3.742878 3.201878 4.648964 3.510117\n",
      "  3.274434 3.579622 3.489244 4.237386 3.913749 3.22899  4.286286 4.628614\n",
      "  3.239536 4.457997 3.513384 3.729674 3.834274 3.811155 3.598316 4.692514\n",
      "  4.604859 3.864912 3.184236 3.500796 3.743365 3.622905 4.310796 3.583357\n",
      "  3.901852 3.233521 3.105266 3.865544 4.628625 4.231213 3.791149 3.968271\n",
      "  4.25391  3.19471  3.996503 3.904358 3.503976 4.557545 3.699876 4.613614\n",
      "  3.140401 4.206717 3.969524 4.476096 3.136528 4.279071 3.200603 3.299012\n",
      "  3.209873 3.632942 3.248361 3.995783 3.563262 3.649712 3.951845 3.145031\n",
      "  3.181577 4.637087 3.404964 3.873188 4.633648 3.154768 4.623637 3.078132\n",
      "  3.913596 3.221817 3.938071 3.880822 4.176436 4.648161 3.332312 4.240614\n",
      "  4.532224 4.557105 4.610072 4.636569 4.229813 3.50086  4.245514 4.605182\n",
      "  3.45434  3.180775 3.38082  4.56502  3.279973 4.554241 4.63352  4.281037\n",
      "  3.844426 3.891601 3.849728 3.492215 4.592374 4.632025 3.75675  3.133555\n",
      "  3.567919 4.363382 3.560165 4.564305 4.215055 4.174999 4.58664  3.960008\n",
      "  3.529963 4.213412 3.908685 3.585821 4.374394 3.213817 3.952681 3.129283]] [[3.12257084]\n",
      " [3.73301922]\n",
      " [4.69582855]\n",
      " [4.25946098]\n",
      " [4.67099547]\n",
      " [3.89977285]\n",
      " [3.65007895]\n",
      " [3.06514517]\n",
      " [3.23286683]\n",
      " [3.24221654]\n",
      " [3.42785945]\n",
      " [4.10677005]\n",
      " [4.24737842]\n",
      " [3.40925159]\n",
      " [4.6518468 ]\n",
      " [4.03763819]\n",
      " [3.61572324]\n",
      " [3.25838991]\n",
      " [4.08905393]\n",
      " [3.39829811]\n",
      " [3.12681762]\n",
      " [3.12159094]\n",
      " [4.57689489]\n",
      " [4.22453225]\n",
      " [3.03380205]\n",
      " [3.575795  ]\n",
      " [3.07638008]\n",
      " [3.36812645]\n",
      " [4.05412689]\n",
      " [3.92524508]\n",
      " [3.08463121]\n",
      " [3.22264573]\n",
      " [3.95116656]\n",
      " [4.53547307]\n",
      " [4.63266931]\n",
      " [3.47321272]\n",
      " [3.67637171]\n",
      " [4.48687834]\n",
      " [3.70271024]\n",
      " [4.54873897]\n",
      " [3.29055527]\n",
      " [4.13515992]\n",
      " [3.4548456 ]\n",
      " [3.39972557]\n",
      " [3.9451346 ]\n",
      " [3.08868473]\n",
      " [3.62780072]\n",
      " [3.84693134]\n",
      " [3.84432733]\n",
      " [4.35061   ]\n",
      " [4.31256527]\n",
      " [3.43466109]\n",
      " [3.31620889]\n",
      " [4.37786401]\n",
      " [3.57417766]\n",
      " [3.58183035]\n",
      " [3.77501915]\n",
      " [4.18560255]\n",
      " [4.00951278]\n",
      " [3.52978055]\n",
      " [3.25926809]\n",
      " [4.1981649 ]\n",
      " [4.23099312]\n",
      " [4.13833018]\n",
      " [3.2195416 ]\n",
      " [4.0559375 ]\n",
      " [3.65380697]\n",
      " [3.66153255]\n",
      " [4.32530562]\n",
      " [3.20455155]\n",
      " [3.20353097]\n",
      " [4.13260677]\n",
      " [3.43985386]\n",
      " [4.69270407]\n",
      " [3.50859919]\n",
      " [4.62257705]\n",
      " [3.52828697]\n",
      " [3.47779009]\n",
      " [3.48090949]\n",
      " [3.30565212]\n",
      " [3.27286288]\n",
      " [4.25069447]\n",
      " [4.44561758]\n",
      " [4.31514894]\n",
      " [3.73587075]\n",
      " [3.28268389]\n",
      " [4.56246261]\n",
      " [3.54184447]\n",
      " [3.34930498]\n",
      " [3.51131849]\n",
      " [3.57846852]\n",
      " [4.13701291]\n",
      " [3.99762179]\n",
      " [3.15189822]\n",
      " [4.17244007]\n",
      " [4.61771487]\n",
      " [3.32970536]\n",
      " [4.43864133]\n",
      " [3.57277394]\n",
      " [3.73170535]\n",
      " [3.79838917]\n",
      " [3.94128791]\n",
      " [3.47940404]\n",
      " [4.56535313]\n",
      " [4.51074001]\n",
      " [3.97320914]\n",
      " [3.12027706]\n",
      " [3.57694952]\n",
      " [3.73141375]\n",
      " [3.6786604 ]\n",
      " [4.18467182]\n",
      " [3.47015945]\n",
      " [3.86132972]\n",
      " [3.1215316 ]\n",
      " [3.07271818]\n",
      " [4.02344833]\n",
      " [4.61330533]\n",
      " [4.14577773]\n",
      " [3.74488818]\n",
      " [3.87130839]\n",
      " [4.27828923]\n",
      " [3.10609569]\n",
      " [3.82654678]\n",
      " [3.79907916]\n",
      " [3.61427374]\n",
      " [4.61681295]\n",
      " [3.71523529]\n",
      " [4.56822162]\n",
      " [3.27294765]\n",
      " [4.1209972 ]\n",
      " [4.05277064]\n",
      " [4.45457905]\n",
      " [3.23372127]\n",
      " [4.1826137 ]\n",
      " [3.31027187]\n",
      " [3.34600419]\n",
      " [3.13188155]\n",
      " [3.49347861]\n",
      " [3.31633604]\n",
      " [4.06142526]\n",
      " [3.5919243 ]\n",
      " [3.68342425]\n",
      " [3.82212368]\n",
      " [3.26772097]\n",
      " [3.29907766]\n",
      " [4.47772699]\n",
      " [3.38724969]\n",
      " [3.90338389]\n",
      " [4.5169059 ]\n",
      " [3.1880442 ]\n",
      " [4.56385616]\n",
      " [3.03292726]\n",
      " [3.97014739]\n",
      " [3.12447299]\n",
      " [4.03092979]\n",
      " [3.90973965]\n",
      " [4.11201199]\n",
      " [4.53561039]\n",
      " [3.35416039]\n",
      " [4.18782512]\n",
      " [4.64190543]\n",
      " [4.67151593]\n",
      " [4.68257113]\n",
      " [4.68771813]\n",
      " [4.25553631]\n",
      " [3.43763299]\n",
      " [4.15161473]\n",
      " [4.60027508]\n",
      " [3.4068544 ]\n",
      " [3.195112  ]\n",
      " [3.37736257]\n",
      " [4.48229758]\n",
      " [3.3414336 ]\n",
      " [4.6321641 ]\n",
      " [4.6567378 ]\n",
      " [4.27210978]\n",
      " [3.76330447]\n",
      " [3.80548918]\n",
      " [3.93887547]\n",
      " [3.5768478 ]\n",
      " [4.5076613 ]\n",
      " [4.56560234]\n",
      " [3.75676222]\n",
      " [3.20541447]\n",
      " [3.61682859]\n",
      " [4.38911078]\n",
      " [3.66404502]\n",
      " [4.67296204]\n",
      " [4.33158679]\n",
      " [4.11405146]\n",
      " [4.4827248 ]\n",
      " [4.03299809]\n",
      " [3.44040992]\n",
      " [4.24625442]\n",
      " [3.84494273]\n",
      " [3.44346998]\n",
      " [4.42119307]\n",
      " [3.12657688]\n",
      " [3.90129695]\n",
      " [3.20467701]]\n"
     ]
    }
   ],
   "source": [
    "xMat=np.mat(xArr)\n",
    "yMat=np.mat(yArr)\n",
    "yHat = xMat*ws"
   ]
  },
  {
   "cell_type": "code",
   "execution_count": 39,
   "metadata": {},
   "outputs": [
    {
     "data": {
      "image/png": "[encoded data removed]",
      "text/plain": [
       "<Figure size 432x288 with 1 Axes>"
      ]
     },
     "metadata": {
      "needs_background": "light"
     },
     "output_type": "display_data"
    }
   ],
   "source": [
    "import matplotlib.pyplot as plt\n",
    "plt.scatter(xMat[:,1].flatten().A[0], yMat.T[:,0].flatten().A[0])\n",
    "#plt.scatter(xMat[:,1],yHat)  # 为什么同样的写法，plot可以，scatter不行？\n",
    "plt.plot(xMat[:,1],yHat)  \n",
    "plt.show()"
   ]
  },
  {
   "cell_type": "code",
   "execution_count": 40,
   "metadata": {},
   "outputs": [
    {
     "data": {
      "text/plain": [
       "array([[1.        , 0.98647356],\n",
       "       [0.98647356, 1.        ]])"
      ]
     },
     "execution_count": 40,
     "metadata": {},
     "output_type": "execute_result"
    }
   ],
   "source": [
    "np.corrcoef(yHat.T, yMat)"
   ]
  },
  {
   "cell_type": "code",
   "execution_count": null,
   "metadata": {},
   "outputs": [],
   "source": []
  }
 ],
 "metadata": {
  "kernelspec": {
   "display_name": "Python 3",
   "language": "python",
   "name": "python3"
  },
  "language_info": {
   "codemirror_mode": {
    "name": "ipython",
    "version": 3
   },
   "file_extension": ".py",
   "mimetype": "text/x-python",
   "name": "python",
   "nbconvert_exporter": "python",
   "pygments_lexer": "ipython3",
   "version": "3.7.4"
  }
 },
 "nbformat": 4,
 "nbformat_minor": 2
}
