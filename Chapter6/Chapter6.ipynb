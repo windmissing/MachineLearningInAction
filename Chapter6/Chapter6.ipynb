{
 "cells": [
  {
   "cell_type": "code",
   "execution_count": 1,
   "metadata": {},
   "outputs": [],
   "source": [
    "import svmMLiA"
   ]
  },
  {
   "cell_type": "code",
   "execution_count": 2,
   "metadata": {},
   "outputs": [
    {
     "data": {
      "text/plain": [
       "[-1.0,\n",
       " -1.0,\n",
       " 1.0,\n",
       " -1.0,\n",
       " 1.0,\n",
       " 1.0,\n",
       " 1.0,\n",
       " -1.0,\n",
       " -1.0,\n",
       " -1.0,\n",
       " -1.0,\n",
       " -1.0,\n",
       " -1.0,\n",
       " 1.0,\n",
       " -1.0,\n",
       " 1.0,\n",
       " 1.0,\n",
       " -1.0,\n",
       " 1.0,\n",
       " -1.0,\n",
       " -1.0,\n",
       " -1.0,\n",
       " 1.0,\n",
       " -1.0,\n",
       " -1.0,\n",
       " 1.0,\n",
       " 1.0,\n",
       " -1.0,\n",
       " -1.0,\n",
       " -1.0,\n",
       " -1.0,\n",
       " 1.0,\n",
       " 1.0,\n",
       " 1.0,\n",
       " 1.0,\n",
       " -1.0,\n",
       " 1.0,\n",
       " -1.0,\n",
       " -1.0,\n",
       " 1.0,\n",
       " -1.0,\n",
       " -1.0,\n",
       " -1.0,\n",
       " -1.0,\n",
       " 1.0,\n",
       " 1.0,\n",
       " 1.0,\n",
       " 1.0,\n",
       " 1.0,\n",
       " -1.0,\n",
       " 1.0,\n",
       " 1.0,\n",
       " -1.0,\n",
       " -1.0,\n",
       " 1.0,\n",
       " 1.0,\n",
       " -1.0,\n",
       " 1.0,\n",
       " -1.0,\n",
       " -1.0,\n",
       " -1.0,\n",
       " -1.0,\n",
       " 1.0,\n",
       " -1.0,\n",
       " 1.0,\n",
       " -1.0,\n",
       " -1.0,\n",
       " 1.0,\n",
       " 1.0,\n",
       " 1.0,\n",
       " -1.0,\n",
       " 1.0,\n",
       " 1.0,\n",
       " -1.0,\n",
       " -1.0,\n",
       " 1.0,\n",
       " -1.0,\n",
       " 1.0,\n",
       " 1.0,\n",
       " 1.0,\n",
       " 1.0,\n",
       " 1.0,\n",
       " 1.0,\n",
       " 1.0,\n",
       " -1.0,\n",
       " -1.0,\n",
       " -1.0,\n",
       " -1.0,\n",
       " 1.0,\n",
       " -1.0,\n",
       " 1.0,\n",
       " 1.0,\n",
       " 1.0,\n",
       " -1.0,\n",
       " -1.0,\n",
       " -1.0,\n",
       " -1.0,\n",
       " -1.0,\n",
       " -1.0,\n",
       " -1.0]"
      ]
     },
     "execution_count": 2,
     "metadata": {},
     "output_type": "execute_result"
    }
   ],
   "source": [
    "dataArr, labelArr = svmMLiA.loadDataSet('testSet.txt')\n",
    "labelArr"
   ]
  },
  {
   "cell_type": "code",
   "execution_count": 3,
   "metadata": {},
   "outputs": [],
   "source": [
    "def generateI(alphas, labelMat, dataMatrix, i, b):\n",
    "    # 如果这一轮要更新alpha_i，先把alpha_i对应的样本信息都准备好\n",
    "    I = generateNode(alphas, labelMat, dataMatrix, i, b)\n",
    "    # condition to choose i: error is big enough\n",
    "    if(not choose(I, toler, C)):\n",
    "        raise Exception('error not big enough')\n",
    "    return I"
   ]
  },
  {
   "cell_type": "code",
   "execution_count": 4,
   "metadata": {},
   "outputs": [],
   "source": [
    "def generateNode(dataMatrix, labelMat, alphas, index, b):\n",
    "    return {'index':index, # 更新第几个alpha\n",
    "             'x':dataMatrix[index,:], # 对应的数据\n",
    "             'y':labelMat[index],     # 对应的标签\n",
    "             'a':alphas[index],       # 当前的alpha值\n",
    "            #E: error between predition class and real class\n",
    "            # 基于当前alpha对第index个数据的预测分类与该数据的真实分类做比较\n",
    "             'E':E(alphas, labelMat, dataMatrix, index, b)\n",
    "           }"
   ]
  },
  {
   "cell_type": "markdown",
   "metadata": {},
   "source": [
    "SVM对数据点$x_i$的预测值为：  \n",
    "$$\n",
    "f(x_i) = (\\sum_{i=1}^{M}a_iy_i) \\cdot K<x, x_i> + b \\tag{1}\n",
    "$$\n",
    "记$E_i$为SVM预测值与真实值的误差：  \n",
    "$$\n",
    "E_i = f(x_i) - y_i \\tag{2}\n",
    "$$"
   ]
  },
  {
   "cell_type": "code",
   "execution_count": 25,
   "metadata": {},
   "outputs": [],
   "source": [
    "def E(alphas, labelMat, dataMatrix, i, b):\n",
    "    # fx: the predition of the class\n",
    "    fXi = float(np.multiply(alphas, labelMat).T*(dataMatrix*dataMatrix[i,:].T)) + b\n",
    "    # E: error between predition class and real class\n",
    "    Ei = fXi - labelMat[i]\n",
    "    return Ei"
   ]
  },
  {
   "cell_type": "code",
   "execution_count": 26,
   "metadata": {},
   "outputs": [],
   "source": [
    "# If this error is large, then the alpha corresponding to this data instance can be optimized.\n",
    "# ???\n",
    "def choose(I, toler, C):\n",
    "    return ((I['y']*I['E'] < - toler) and (I['a'] < C)) or ((I['y']*I['E'] > toler) and (I['a'] > 0))"
   ]
  },
  {
   "cell_type": "code",
   "execution_count": 27,
   "metadata": {},
   "outputs": [],
   "source": [
    "def generateJ(alphas, labelMat, dataMatrix, i, b):\n",
    "    # select j randomly\n",
    "    j = selectJrand(i, m)\n",
    "    return generateNode(alphas, labelMat, dataMatrix, j, b)"
   ]
  },
  {
   "cell_type": "code",
   "execution_count": 28,
   "metadata": {},
   "outputs": [],
   "source": [
    "# i: the index of first alpha\n",
    "# m: the total number of alphas\n",
    "# choose a random valuse which is not equal to i\n",
    "def selectJrand(i, m):\n",
    "    j = i\n",
    "    while (j==i):\n",
    "        j = int(np.random.uniform(0, m))\n",
    "    return j"
   ]
  },
  {
   "cell_type": "markdown",
   "metadata": {},
   "source": [
    "目标函数：\n",
    "\n",
    "$$\n",
    "W(a) = \\sum_{i=1}^{M}a - \\frac{1}{2}\\sum_{i,j=1}^{M}y_iy_ja_ia_jK_{i,j} \\tag{3} \\\\\n",
    "$$\n",
    "约束条件：\n",
    "\n",
    "$$\n",
    "0 \\le a \\le C \\tag {4}\n",
    "$$\n",
    "$$\n",
    "\\sum_{i=1}^{M}a_iy_i = 0 \\tag {5} \n",
    "$$"
   ]
  },
  {
   "cell_type": "code",
   "execution_count": 29,
   "metadata": {},
   "outputs": [],
   "source": [
    "# 更新alpha_i, alpha_j和b，使得目标函数进一步变大\n",
    "def update(I, J, C):\n",
    "    # 根据公式先更新alpha_j\n",
    "    update_alpha_j(I, J, C)                    \n",
    "    # change alpha_i as alpha_j changed\n",
    "    update_alpha_i(I, J)\n",
    "    # 当更新了一对a_i,a_j之后，需要重新计算b。\n",
    "    b = update_b(b, I, J, C)\n",
    "    return I['a'], J['a'], b"
   ]
  },
  {
   "cell_type": "markdown",
   "metadata": {},
   "source": [
    "假设现在要更新的是$a_1$和$a_2$,即代码中的I和J，其它alpha都当作常数  \n",
    "根据约束条件$\\sum_{i=1}^M a_iy_i =0$可以得到a_1和a_2的关系：  \n",
    "$$\n",
    "a_1y_1 + a_2y_2 = - \\sum_{i=3}^{M}a_iy_i = \\zeta \\tag{6}\n",
    "$$\n",
    "公式（6）左边两边同时乘以$y_1$，得：  \n",
    "$$\n",
    "a_1 = \\zeta y_1 - a_2y_2y_1 \\tag{7}\n",
    "$$\n",
    "其中$\\zeta$代表一个常数。  \n",
    "目标函数（3）中也把变量$a_1$、$a_2$和常量其它$a$分开，则写成  \n",
    "$$\n",
    "W(a_1, a_2) = a_1 + a_2 - \\frac{1}{2}K_{1,1}y_1^2a_1^2 - \\frac{1}{2}K_{2,2}y_2^2a_2^2 - K_{1,2}y_1y_2a_1a_2 - y_1a_1\\sum_{i=3}^{M}a_iy_iK_{i,1} - y_2a_2\\sum_{i=3}^{M}a_iy_iK_{i,2} + C\\tag {8}\n",
    "$$\n",
    "其中$C$是一个与$a_1$、$a_2$无关的常数  \n",
    "把公式（7）代码公式（8）中，同时为了简单公式（8）的写法，令：  \n",
    "$$\n",
    "v_1 = \\sum_{i=3}^{M}a_iy_iK_{i,1} \\\\\n",
    "v_2 = \\sum_{i=3}^{M}a_iy_iK_{i,2} \\tag {9}\n",
    "$$\n",
    "最终公式（8）变成了公式（10）  \n",
    "$$\n",
    "W(a_2) = - \\frac{1}{2}K_{1,1}(\\zeta - a_2y_2)^2 - \\frac{1}{2}K_{2,2}a_2^2 - y_2(\\zeta-a_2y_2)a_2K_{1,2} - v_1(\\zeta-a_2y_2)-v_2y_2a_2+a_1+a_2+C \\tag{10}\n",
    "$$\n",
    "公式（10）$W(a_2)$在其一阶层数为0的位置取得最大值点。因此$\\frac{\\partial W(a_2)}{\\partial a_2}=0$得到的$a_2$为新的$a_2$值\n",
    "$$\n",
    "\\frac{\\partial W(a_2)}{\\partial a_2} = -(K_{1,1}+K_{2,2}-2K{1,2})a_2^{new} + K{1,1}\\zeta y_2 - K_{1,2}\\zeta y_2 + v_1y_2 - v_2y_2 - y_1y_2 +y_2^2 = 0 \\tag{11}\n",
    "$$\n",
    "公式（11）已经能解出a_2^{new}了，但这样的计算很不方便，可以把公式（11）中不包含$a_2^{new}$的项用$a_2^{old}$来表达。具体方法是将公式(1)(2)(7)代入公式（11）中，并令$\\eta = - K_{1,1} - K_{2,2} + 2K_{1,2}$"
   ]
  },
  {
   "cell_type": "code",
   "execution_count": 30,
   "metadata": {},
   "outputs": [],
   "source": [
    "def K(I, J):\n",
    "    return I['x'] * J['x'].T\n",
    "\n",
    "def calc_eta(I, J):\n",
    "    eta = 2.0 * K(I, J) - K(I, I) - K(J, J)\n",
    "    if eta >= 0:\n",
    "        raise Exception('eta>=0')\n",
    "    return eta"
   ]
  },
  {
   "cell_type": "markdown",
   "metadata": {},
   "source": [
    "得到最终的一阶导数表达式   \n",
    "\n",
    "$$\n",
    "\\frac{\\partial W(a_2)}{\\partial a_2} = \\eta a_2^{new} - \\eta a_2^{old} + y_2(E_1 - E_2) = 0 \\tag{12}\n",
    "$$\n",
    "得到  \n",
    "\n",
    "$$\n",
    "a_2^{new} = a_2^{old} - \\frac{y_2(E_1-E_2)}{\\eta} \\tag{13}\n",
    "$$"
   ]
  },
  {
   "cell_type": "code",
   "execution_count": 31,
   "metadata": {},
   "outputs": [],
   "source": [
    "def update_alpha_j(I, J, C):\n",
    "    # eta: the optional amount to change alpha[j]\n",
    "    eta = calc_eta(I, J)\n",
    "    alphas_j = J['a']-J['y'] *(I['E'] - J['E']) / eta\n",
    "    # make sure alpha_j is in [0, C]\n",
    "    L, H = calcLH(C, I, J)   # 此处要用到更新前的J['a']和I['a']\n",
    "    alphas_j = clipAlpha(alphas_j, H, L)\n",
    "    J['gap'] = alphas_j - J['a']\n",
    "    J['a'] = alphas_j\n",
    "    if(abs(J['gap']) < 0.00001):# the float way to compare\n",
    "        raise Exception('J not moving enough')"
   ]
  },
  {
   "cell_type": "markdown",
   "metadata": {},
   "source": [
    "公式（13）计算出来的$a_2^{new}$没有考虑边界，根据公式（6）和（4）可以计算出$a_2^{new}$的边界如图：\n",
    "![](https://img-blog.csdn.net/20180727105736824?watermark/2/text/aHR0cHM6Ly9ibG9nLmNzZG4ubmV0L3UwMTE3MzQxNDQ=/font/5a6L5L2T/fontsize/400/fill/I0JBQkFCMA==/dissolve/70)\n",
    "当$y_1 \\neq y_2$时，\n",
    "$$\\begin{cases}\n",
    "L = max(0, a_2^{old} - a_1^{old}) \\\\\n",
    "H = min(C, C + a_2^{old} - a_1^{old}) \\\\\n",
    "\\end{cases}\n",
    "$$\n",
    "当$y_1 = y_2$时，\n",
    "$$\\begin{cases}\n",
    "L = max(0, a_2^{old} + a_1^{old} - C) \\\\\n",
    "H = min(C, a_2^{old} + a_1^{old}) \\\\\n",
    "\\end{cases}\n",
    "$$"
   ]
  },
  {
   "cell_type": "code",
   "execution_count": 32,
   "metadata": {},
   "outputs": [],
   "source": [
    "def calcLH(C, I, J):\n",
    "    if (I['y'] != J['y']):\n",
    "        L = max(0, J['a'] - I['a'])\n",
    "        H = min(C, C+J['a']-I['a'])\n",
    "    else:\n",
    "        L = max(0, I['a'] + J['a'] - C)\n",
    "        H = min(C, I['a'] + J['a'])\n",
    "    if L == H:\n",
    "        raise Exception('L==H')\n",
    "    return L, H"
   ]
  },
  {
   "cell_type": "code",
   "execution_count": 33,
   "metadata": {},
   "outputs": [],
   "source": [
    "# 将aj限制在H和L之间\n",
    "def clipAlpha(aj, H, L):\n",
    "    if aj > H:\n",
    "        aj = H\n",
    "    if aj < L:\n",
    "        aj = L\n",
    "    return aj"
   ]
  },
  {
   "cell_type": "markdown",
   "metadata": {},
   "source": [
    "更新完$a_2$以后，根据公式2计算出新的$a_1$  \n",
    "由于$a$的更新不会影响$\\zeta y_1$，得出：\n",
    "\n",
    "$$\n",
    "a_1^{new} = a_1^{old} + y_1y_2(a_2^{old} - a_2^{new})\n",
    "$$"
   ]
  },
  {
   "cell_type": "code",
   "execution_count": 34,
   "metadata": {},
   "outputs": [],
   "source": [
    "def update_alpha_i(I, J):\n",
    "    I['gap'] = I['y']*J['y']*(-J['gap'])\n",
    "    I['a'] = I['a'] + I['gap']"
   ]
  },
  {
   "cell_type": "markdown",
   "metadata": {},
   "source": [
    "更新完一对$a_1$、$a_2$之后，b也要相应的更新  \n",
    "当 $a_1^{new}$不在边界上，即 $0<a_1^{new}≤C$ ，根据KTT条件可知相应的数据点为支撑向量  \n",
    "当b_1和b_2都有效的时候它们是相等的，即$b^{new} = b_1^{new} = b_2^{new}$  \n",
    "但当$a_1$、$a_2$都在边界上且$L \\neq H$时，$b_1$、$b_2$之间的值就是和KTT条件一致的阈值。  \n",
    "SMO选择它们的中点作为新的阈值，即  \n",
    "$$\n",
    "b^{new} = \\frac{b_1^{new} + b_2^{new}}{2}\n",
    "$$"
   ]
  },
  {
   "cell_type": "code",
   "execution_count": 35,
   "metadata": {},
   "outputs": [],
   "source": [
    "def update_b(b, I, J, C):\n",
    "    b1 = b + calc_b_gap(I, J, I)\n",
    "    b2 = b + calc_b_gap(I, J, J)\n",
    "    if (not isInBound(I, C)):\n",
    "        b = b1\n",
    "    elif (not isInBound(J, C)):\n",
    "        b = b2\n",
    "    else:\n",
    "        b = (b1 + b2)/2.0\n",
    "    return b"
   ]
  },
  {
   "cell_type": "markdown",
   "metadata": {},
   "source": [
    "当$a_1^{new}$不在边界上，即$0 \\lt a_1^{new} \\le C$，根据KTT条件可知相应的数据点为支撑向量"
   ]
  },
  {
   "cell_type": "code",
   "execution_count": 36,
   "metadata": {},
   "outputs": [],
   "source": [
    "def isInBound(I, C):\n",
    "    return not (0 < I['a']) and (I['a'] < C)"
   ]
  },
  {
   "cell_type": "markdown",
   "metadata": {},
   "source": [
    "如果$a_1^{new}$不在边界上，可知相应的数据点为支撑向量，满足$y_1(w^T+b) = 1$，两边同时乘以$y_1$，得到：  \n",
    "\n",
    "$$\n",
    "\\sum_{i=1}^{M}a_iy_iK_{i,1}+b=y_1\n",
    "$$\n",
    "进而得到$b_1$的值：  \n",
    "\n",
    "$$\n",
    "b_1^{new} = y_1 - \\sum_{i=3}^{M}a_iy_iK_{i,1} - a_1^{new}y_1K_{1,1} - a_2^{new}y_2K_{2,1} \\tag {3}\n",
    "$$\n",
    "其中前两项可以写成：  \n",
    "\n",
    "$$\n",
    "y_1 - \\sum_{i=3}^{M}a_iy_iK_{i,1} = -E_1 + a_1^{old}y_1K_{1,1} + a_2^{old}y_1K_{2,1} + b_old \\tag {4}\n",
    "$$\n",
    "合并公式（3）、（4）可推出：\n",
    "\n",
    "$$\n",
    "b_1^{new} = -E_1 - y_1K_{1,1}(a_1^{new}-a_1^{old}) - y_2K_{2,1}(a_2^{new}-a_2^{old}) + b^{old}\n",
    "$$"
   ]
  },
  {
   "cell_type": "code",
   "execution_count": 37,
   "metadata": {},
   "outputs": [],
   "source": [
    "def calc_b_gap(I, J, target):\n",
    "    return -target['E'] - I['y']*K(I, target)*(I['gap']) - J['y']*K(J, target)*(J['gap'])"
   ]
  },
  {
   "cell_type": "code",
   "execution_count": 40,
   "metadata": {},
   "outputs": [],
   "source": [
    "import numpy as np\n",
    "\n",
    "# 使用SMO算法求出alpha，然后根据alpha计算w和b\n",
    "def smoSimple(dataMatIn, classLabels, C, toler, maxIter):\n",
    "    dataMat = np.mat(dataMatIn)\n",
    "    labelMat = np.mat(classLabels).transpose()\n",
    "    m= np.shape(dataMat)[0]\n",
    "    alphas = np.mat(np.zeros((m, 1)))# 把所有alpha都初始化为0\n",
    "    b, iter = 0, 0\n",
    "    # 迭代matIter次\n",
    "    while(iter < maxIter):\n",
    "        alphaPairsChanged = 0\n",
    "        for i in range(m):\n",
    "            try: # 可能会有一些情况导致选择的这一对ahpha不能更新\n",
    "                # 选择一个要更新的alpha\n",
    "                I = generateI(alphas, labelMat, dataMat, i, b)\n",
    "                # 选择另一个要更新的alpha\n",
    "                J = generateJ(alphas, labelMat, dataMat, i, b, m)\n",
    "                # 更新alpha_i, alpha_j，b也需要相应的更新\n",
    "                alphas[i], alphas[J['index']], b = update(I, J, C)                                \n",
    "                alphaPairsChanged += 1\n",
    "                # print (\"iter: %d, i: %d, pairs changed %d\" % (iter, i, alphaPairsChanged))\n",
    "            except UserWarning as err:\n",
    "                print (err)\n",
    "        if alphaPairsChanged == 0:\n",
    "            iter+=1\n",
    "        else:\n",
    "            iter = 0\n",
    "        #print(\"iteration number: %d\" % iter)\n",
    "    return b, alphas"
   ]
  },
  {
   "cell_type": "code",
   "execution_count": 41,
   "metadata": {},
   "outputs": [
    {
     "ename": "TypeError",
     "evalue": "only size-1 arrays can be converted to Python scalars",
     "output_type": "error",
     "traceback": [
      "\u001b[1;31m---------------------------------------------------------------------------\u001b[0m",
      "\u001b[1;31mTypeError\u001b[0m                                 Traceback (most recent call last)",
      "\u001b[1;32m<timed exec>\u001b[0m in \u001b[0;36m<module>\u001b[1;34m\u001b[0m\n",
      "\u001b[1;32m<ipython-input-40-c0f9a6bab349>\u001b[0m in \u001b[0;36msmoSimple\u001b[1;34m(dataMatIn, classLabels, C, toler, maxIter)\u001b[0m\n\u001b[0;32m     14\u001b[0m             \u001b[1;32mtry\u001b[0m\u001b[1;33m:\u001b[0m \u001b[1;31m# 可能会有一些情况导致选择的这一对ahpha不能更新\u001b[0m\u001b[1;33m\u001b[0m\u001b[1;33m\u001b[0m\u001b[0m\n\u001b[0;32m     15\u001b[0m                 \u001b[1;31m# 选择一个要更新的alpha\u001b[0m\u001b[1;33m\u001b[0m\u001b[1;33m\u001b[0m\u001b[1;33m\u001b[0m\u001b[0m\n\u001b[1;32m---> 16\u001b[1;33m                 \u001b[0mI\u001b[0m \u001b[1;33m=\u001b[0m \u001b[0mgenerateI\u001b[0m\u001b[1;33m(\u001b[0m\u001b[0malphas\u001b[0m\u001b[1;33m,\u001b[0m \u001b[0mlabelMat\u001b[0m\u001b[1;33m,\u001b[0m \u001b[0mdataMat\u001b[0m\u001b[1;33m,\u001b[0m \u001b[0mi\u001b[0m\u001b[1;33m,\u001b[0m \u001b[0mb\u001b[0m\u001b[1;33m)\u001b[0m\u001b[1;33m\u001b[0m\u001b[1;33m\u001b[0m\u001b[0m\n\u001b[0m\u001b[0;32m     17\u001b[0m                 \u001b[1;31m# 选择另一个要更新的alpha\u001b[0m\u001b[1;33m\u001b[0m\u001b[1;33m\u001b[0m\u001b[1;33m\u001b[0m\u001b[0m\n\u001b[0;32m     18\u001b[0m                 \u001b[0mJ\u001b[0m \u001b[1;33m=\u001b[0m \u001b[0mgenerateJ\u001b[0m\u001b[1;33m(\u001b[0m\u001b[0malphas\u001b[0m\u001b[1;33m,\u001b[0m \u001b[0mlabelMat\u001b[0m\u001b[1;33m,\u001b[0m \u001b[0mdataMat\u001b[0m\u001b[1;33m,\u001b[0m \u001b[0mi\u001b[0m\u001b[1;33m,\u001b[0m \u001b[0mb\u001b[0m\u001b[1;33m,\u001b[0m \u001b[0mm\u001b[0m\u001b[1;33m)\u001b[0m\u001b[1;33m\u001b[0m\u001b[1;33m\u001b[0m\u001b[0m\n",
      "\u001b[1;32m<ipython-input-3-56f3405f8507>\u001b[0m in \u001b[0;36mgenerateI\u001b[1;34m(alphas, labelMat, dataMatrix, i, b)\u001b[0m\n\u001b[0;32m      1\u001b[0m \u001b[1;32mdef\u001b[0m \u001b[0mgenerateI\u001b[0m\u001b[1;33m(\u001b[0m\u001b[0malphas\u001b[0m\u001b[1;33m,\u001b[0m \u001b[0mlabelMat\u001b[0m\u001b[1;33m,\u001b[0m \u001b[0mdataMatrix\u001b[0m\u001b[1;33m,\u001b[0m \u001b[0mi\u001b[0m\u001b[1;33m,\u001b[0m \u001b[0mb\u001b[0m\u001b[1;33m)\u001b[0m\u001b[1;33m:\u001b[0m\u001b[1;33m\u001b[0m\u001b[1;33m\u001b[0m\u001b[0m\n\u001b[0;32m      2\u001b[0m     \u001b[1;31m# 如果这一轮要更新alpha_i，先把alpha_i对应的样本信息都准备好\u001b[0m\u001b[1;33m\u001b[0m\u001b[1;33m\u001b[0m\u001b[1;33m\u001b[0m\u001b[0m\n\u001b[1;32m----> 3\u001b[1;33m     \u001b[0mI\u001b[0m \u001b[1;33m=\u001b[0m \u001b[0mgenerateNode\u001b[0m\u001b[1;33m(\u001b[0m\u001b[0malphas\u001b[0m\u001b[1;33m,\u001b[0m \u001b[0mlabelMat\u001b[0m\u001b[1;33m,\u001b[0m \u001b[0mdataMatrix\u001b[0m\u001b[1;33m,\u001b[0m \u001b[0mi\u001b[0m\u001b[1;33m,\u001b[0m \u001b[0mb\u001b[0m\u001b[1;33m)\u001b[0m\u001b[1;33m\u001b[0m\u001b[1;33m\u001b[0m\u001b[0m\n\u001b[0m\u001b[0;32m      4\u001b[0m     \u001b[1;31m# condition to choose i: error is big enough\u001b[0m\u001b[1;33m\u001b[0m\u001b[1;33m\u001b[0m\u001b[1;33m\u001b[0m\u001b[0m\n\u001b[0;32m      5\u001b[0m     \u001b[1;32mif\u001b[0m\u001b[1;33m(\u001b[0m\u001b[1;32mnot\u001b[0m \u001b[0mchoose\u001b[0m\u001b[1;33m(\u001b[0m\u001b[0mI\u001b[0m\u001b[1;33m,\u001b[0m \u001b[0mtoler\u001b[0m\u001b[1;33m,\u001b[0m \u001b[0mC\u001b[0m\u001b[1;33m)\u001b[0m\u001b[1;33m)\u001b[0m\u001b[1;33m:\u001b[0m\u001b[1;33m\u001b[0m\u001b[1;33m\u001b[0m\u001b[0m\n",
      "\u001b[1;32m<ipython-input-4-f9aeba1b84b9>\u001b[0m in \u001b[0;36mgenerateNode\u001b[1;34m(dataMatrix, labelMat, alphas, index, b)\u001b[0m\n\u001b[0;32m      6\u001b[0m             \u001b[1;31m#E: error between predition class and real class\u001b[0m\u001b[1;33m\u001b[0m\u001b[1;33m\u001b[0m\u001b[1;33m\u001b[0m\u001b[0m\n\u001b[0;32m      7\u001b[0m             \u001b[1;31m# 基于当前alpha对第index个数据的预测分类与该数据的真实分类做比较\u001b[0m\u001b[1;33m\u001b[0m\u001b[1;33m\u001b[0m\u001b[1;33m\u001b[0m\u001b[0m\n\u001b[1;32m----> 8\u001b[1;33m              \u001b[1;34m'E'\u001b[0m\u001b[1;33m:\u001b[0m\u001b[0mE\u001b[0m\u001b[1;33m(\u001b[0m\u001b[0malphas\u001b[0m\u001b[1;33m,\u001b[0m \u001b[0mlabelMat\u001b[0m\u001b[1;33m,\u001b[0m \u001b[0mdataMatrix\u001b[0m\u001b[1;33m,\u001b[0m \u001b[0mindex\u001b[0m\u001b[1;33m,\u001b[0m \u001b[0mb\u001b[0m\u001b[1;33m)\u001b[0m\u001b[1;33m\u001b[0m\u001b[1;33m\u001b[0m\u001b[0m\n\u001b[0m\u001b[0;32m      9\u001b[0m            }\n",
      "\u001b[1;32m<ipython-input-25-12f522ef3353>\u001b[0m in \u001b[0;36mE\u001b[1;34m(alphas, labelMat, dataMatrix, i, b)\u001b[0m\n\u001b[0;32m      1\u001b[0m \u001b[1;32mdef\u001b[0m \u001b[0mE\u001b[0m\u001b[1;33m(\u001b[0m\u001b[0malphas\u001b[0m\u001b[1;33m,\u001b[0m \u001b[0mlabelMat\u001b[0m\u001b[1;33m,\u001b[0m \u001b[0mdataMatrix\u001b[0m\u001b[1;33m,\u001b[0m \u001b[0mi\u001b[0m\u001b[1;33m,\u001b[0m \u001b[0mb\u001b[0m\u001b[1;33m)\u001b[0m\u001b[1;33m:\u001b[0m\u001b[1;33m\u001b[0m\u001b[1;33m\u001b[0m\u001b[0m\n\u001b[0;32m      2\u001b[0m     \u001b[1;31m# fx: the predition of the class\u001b[0m\u001b[1;33m\u001b[0m\u001b[1;33m\u001b[0m\u001b[1;33m\u001b[0m\u001b[0m\n\u001b[1;32m----> 3\u001b[1;33m     \u001b[0mfXi\u001b[0m \u001b[1;33m=\u001b[0m \u001b[0mfloat\u001b[0m\u001b[1;33m(\u001b[0m\u001b[0mnp\u001b[0m\u001b[1;33m.\u001b[0m\u001b[0mmultiply\u001b[0m\u001b[1;33m(\u001b[0m\u001b[0malphas\u001b[0m\u001b[1;33m,\u001b[0m \u001b[0mlabelMat\u001b[0m\u001b[1;33m)\u001b[0m\u001b[1;33m.\u001b[0m\u001b[0mT\u001b[0m\u001b[1;33m*\u001b[0m\u001b[1;33m(\u001b[0m\u001b[0mdataMatrix\u001b[0m\u001b[1;33m*\u001b[0m\u001b[0mdataMatrix\u001b[0m\u001b[1;33m[\u001b[0m\u001b[0mi\u001b[0m\u001b[1;33m,\u001b[0m\u001b[1;33m:\u001b[0m\u001b[1;33m]\u001b[0m\u001b[1;33m.\u001b[0m\u001b[0mT\u001b[0m\u001b[1;33m)\u001b[0m\u001b[1;33m)\u001b[0m \u001b[1;33m+\u001b[0m \u001b[0mb\u001b[0m\u001b[1;33m\u001b[0m\u001b[1;33m\u001b[0m\u001b[0m\n\u001b[0m\u001b[0;32m      4\u001b[0m     \u001b[1;31m# E: error between predition class and real class\u001b[0m\u001b[1;33m\u001b[0m\u001b[1;33m\u001b[0m\u001b[1;33m\u001b[0m\u001b[0m\n\u001b[0;32m      5\u001b[0m     \u001b[0mEi\u001b[0m \u001b[1;33m=\u001b[0m \u001b[0mfXi\u001b[0m \u001b[1;33m-\u001b[0m \u001b[0mlabelMat\u001b[0m\u001b[1;33m[\u001b[0m\u001b[0mi\u001b[0m\u001b[1;33m]\u001b[0m\u001b[1;33m\u001b[0m\u001b[1;33m\u001b[0m\u001b[0m\n",
      "\u001b[1;31mTypeError\u001b[0m: only size-1 arrays can be converted to Python scalars"
     ]
    }
   ],
   "source": [
    "%%time\n",
    "b,alphas = smoSimple(dataArr, labelArr, 0.6, 0.001, 40)"
   ]
  },
  {
   "cell_type": "code",
   "execution_count": 20,
   "metadata": {},
   "outputs": [
    {
     "data": {
      "text/plain": [
       "0"
      ]
     },
     "execution_count": 20,
     "metadata": {},
     "output_type": "execute_result"
    }
   ],
   "source": [
    "b"
   ]
  },
  {
   "cell_type": "code",
   "execution_count": 21,
   "metadata": {},
   "outputs": [
    {
     "data": {
      "text/plain": [
       "matrix([], shape=(1, 0), dtype=float64)"
      ]
     },
     "execution_count": 21,
     "metadata": {},
     "output_type": "execute_result"
    }
   ],
   "source": [
    "alphas[alphas>0]"
   ]
  },
  {
   "cell_type": "code",
   "execution_count": 22,
   "metadata": {},
   "outputs": [
    {
     "data": {
      "text/plain": [
       "(1, 0)"
      ]
     },
     "execution_count": 22,
     "metadata": {},
     "output_type": "execute_result"
    }
   ],
   "source": [
    "np.shape(alphas[alphas>0])"
   ]
  },
  {
   "cell_type": "code",
   "execution_count": 23,
   "metadata": {},
   "outputs": [],
   "source": [
    "for i in range(100):\n",
    "    if alphas[i]>0.0: print( dataArr[i],labelArr[i])"
   ]
  },
  {
   "cell_type": "code",
   "execution_count": 24,
   "metadata": {},
   "outputs": [
    {
     "name": "stdout",
     "output_type": "stream",
     "text": [
      "-2.9886162210316405\n"
     ]
    },
    {
     "ename": "AttributeError",
     "evalue": "'int' object has no attribute 'getA'",
     "output_type": "error",
     "traceback": [
      "\u001b[1;31m---------------------------------------------------------------------------\u001b[0m",
      "\u001b[1;31mAttributeError\u001b[0m                            Traceback (most recent call last)",
      "\u001b[1;32m<ipython-input-24-b2da5a3e7293>\u001b[0m in \u001b[0;36m<module>\u001b[1;34m\u001b[0m\n\u001b[0;32m      9\u001b[0m \u001b[0mw\u001b[0m \u001b[1;33m=\u001b[0m \u001b[1;33m(\u001b[0m\u001b[1;36m0.082216\u001b[0m\u001b[1;33m+\u001b[0m\u001b[1;36m3.507396\u001b[0m\u001b[1;33m)\u001b[0m\u001b[1;33m/\u001b[0m\u001b[1;33m(\u001b[0m\u001b[1;36m3.457096\u001b[0m\u001b[1;33m-\u001b[0m\u001b[1;36m4.658191\u001b[0m\u001b[1;33m)\u001b[0m\u001b[1;33m\u001b[0m\u001b[1;33m\u001b[0m\u001b[0m\n\u001b[0;32m     10\u001b[0m \u001b[0mprint\u001b[0m \u001b[1;33m(\u001b[0m\u001b[0mw\u001b[0m\u001b[1;33m)\u001b[0m\u001b[1;33m\u001b[0m\u001b[1;33m\u001b[0m\u001b[0m\n\u001b[1;32m---> 11\u001b[1;33m \u001b[0mbb\u001b[0m \u001b[1;33m=\u001b[0m \u001b[0mb\u001b[0m\u001b[1;33m.\u001b[0m\u001b[0mgetA\u001b[0m\u001b[1;33m(\u001b[0m\u001b[1;33m)\u001b[0m\u001b[1;33m[\u001b[0m\u001b[1;36m0\u001b[0m\u001b[1;33m]\u001b[0m\u001b[1;33m[\u001b[0m\u001b[1;36m0\u001b[0m\u001b[1;33m]\u001b[0m\u001b[1;33m\u001b[0m\u001b[1;33m\u001b[0m\u001b[0m\n\u001b[0m\u001b[0;32m     12\u001b[0m \u001b[0mprint\u001b[0m \u001b[1;33m(\u001b[0m\u001b[0mbb\u001b[0m\u001b[1;33m)\u001b[0m\u001b[1;33m\u001b[0m\u001b[1;33m\u001b[0m\u001b[0m\n\u001b[0;32m     13\u001b[0m \u001b[0mx\u001b[0m \u001b[1;33m=\u001b[0m \u001b[0mnp\u001b[0m\u001b[1;33m.\u001b[0m\u001b[0marray\u001b[0m\u001b[1;33m(\u001b[0m\u001b[1;33m[\u001b[0m\u001b[1;36m0\u001b[0m\u001b[1;33m,\u001b[0m \u001b[1;36m10\u001b[0m\u001b[1;33m]\u001b[0m\u001b[1;33m)\u001b[0m\u001b[1;33m\u001b[0m\u001b[1;33m\u001b[0m\u001b[0m\n",
      "\u001b[1;31mAttributeError\u001b[0m: 'int' object has no attribute 'getA'"
     ]
    }
   ],
   "source": [
    "import matplotlib.pyplot as plt\n",
    "dataArr, labelArr = svmMLiA.loadDataSet('testSet.txt')\n",
    "dataMat = np.array(dataArr)\n",
    "labelMat = np.array(labelArr)\n",
    "plt.scatter(dataMat[labelMat==1,0], dataMat[labelMat==1,1])\n",
    "plt.scatter(dataMat[labelMat==-1,0], dataMat[labelMat==-1,1])\n",
    "\n",
    "#dd = dataMat[alphas>0&labelMat>=1]\n",
    "w = (0.082216+3.507396)/(3.457096-4.658191)\n",
    "print (w)\n",
    "bb = b.getA()[0][0]\n",
    "print (bb)\n",
    "x = np.array([0, 10])\n",
    "y = (-bb - x*w)\n",
    "plt.plot(x, y)\n",
    "\n",
    "plt.show()"
   ]
  },
  {
   "cell_type": "code",
   "execution_count": null,
   "metadata": {},
   "outputs": [],
   "source": []
  },
  {
   "cell_type": "code",
   "execution_count": null,
   "metadata": {},
   "outputs": [],
   "source": []
  }
 ],
 "metadata": {
  "kernelspec": {
   "display_name": "Python 3",
   "language": "python",
   "name": "python3"
  },
  "language_info": {
   "codemirror_mode": {
    "name": "ipython",
    "version": 3
   },
   "file_extension": ".py",
   "mimetype": "text/x-python",
   "name": "python",
   "nbconvert_exporter": "python",
   "pygments_lexer": "ipython3",
   "version": "3.7.4"
  }
 },
 "nbformat": 4,
 "nbformat_minor": 2
}
