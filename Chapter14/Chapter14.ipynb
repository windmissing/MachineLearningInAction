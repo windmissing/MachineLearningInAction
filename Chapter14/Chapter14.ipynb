{
 "cells": [
  {
   "cell_type": "code",
   "execution_count": 1,
   "metadata": {},
   "outputs": [],
   "source": [
    "import numpy as np\n",
    "from numpy import linalg as la"
   ]
  },
  {
   "cell_type": "code",
   "execution_count": 2,
   "metadata": {},
   "outputs": [],
   "source": [
    "from numpy import *\n",
    "U,Sigma,VT=np.linalg.svd([[1, 1],[7, 7]])"
   ]
  },
  {
   "cell_type": "code",
   "execution_count": 3,
   "metadata": {},
   "outputs": [
    {
     "data": {
      "text/plain": [
       "array([[-0.14142136, -0.98994949],\n",
       "       [-0.98994949,  0.14142136]])"
      ]
     },
     "execution_count": 3,
     "metadata": {},
     "output_type": "execute_result"
    }
   ],
   "source": [
    "U"
   ]
  },
  {
   "cell_type": "code",
   "execution_count": 4,
   "metadata": {},
   "outputs": [
    {
     "data": {
      "text/plain": [
       "array([1.00000000e+01, 2.82797782e-16])"
      ]
     },
     "execution_count": 4,
     "metadata": {},
     "output_type": "execute_result"
    }
   ],
   "source": [
    "Sigma"
   ]
  },
  {
   "cell_type": "code",
   "execution_count": 5,
   "metadata": {},
   "outputs": [
    {
     "data": {
      "text/plain": [
       "array([[-0.70710678, -0.70710678],\n",
       "       [ 0.70710678, -0.70710678]])"
      ]
     },
     "execution_count": 5,
     "metadata": {},
     "output_type": "execute_result"
    }
   ],
   "source": [
    "VT"
   ]
  },
  {
   "cell_type": "code",
   "execution_count": 6,
   "metadata": {},
   "outputs": [],
   "source": [
    "def loadExData():\n",
    "    return[[1, 1, 1, 0, 0],\n",
    "            [2, 2, 2, 0, 0],\n",
    "            [1, 1, 1, 0, 0],\n",
    "            [5, 5, 5, 0, 0],\n",
    "            [1, 1, 0, 2, 2],\n",
    "            [0, 0, 0, 3, 3],\n",
    "            [0, 0, 0, 1, 1]]"
   ]
  },
  {
   "cell_type": "code",
   "execution_count": 7,
   "metadata": {},
   "outputs": [
    {
     "data": {
      "text/plain": [
       "array([9.72140007e+00, 5.29397912e+00, 6.84226362e-01, 4.11502614e-16,\n",
       "       1.36030206e-16])"
      ]
     },
     "execution_count": 7,
     "metadata": {},
     "output_type": "execute_result"
    }
   ],
   "source": [
    "Data=loadExData()\n",
    "U,Sigma,VT=linalg.svd(Data)\n",
    "Sigma"
   ]
  },
  {
   "cell_type": "code",
   "execution_count": 8,
   "metadata": {},
   "outputs": [
    {
     "data": {
      "text/plain": [
       "matrix([[ 1.00000000e+00,  1.00000000e+00,  1.00000000e+00,\n",
       "          7.75989921e-16,  7.71587483e-16],\n",
       "        [ 2.00000000e+00,  2.00000000e+00,  2.00000000e+00,\n",
       "          3.00514919e-16,  2.77832253e-16],\n",
       "        [ 1.00000000e+00,  1.00000000e+00,  1.00000000e+00,\n",
       "          2.18975112e-16,  2.07633779e-16],\n",
       "        [ 5.00000000e+00,  5.00000000e+00,  5.00000000e+00,\n",
       "          3.00675663e-17, -1.28697294e-17],\n",
       "        [ 1.00000000e+00,  1.00000000e+00, -5.48397422e-16,\n",
       "          2.00000000e+00,  2.00000000e+00],\n",
       "        [ 3.21319929e-16,  4.43562065e-16, -3.48967188e-16,\n",
       "          3.00000000e+00,  3.00000000e+00],\n",
       "        [ 9.71445147e-17,  1.45716772e-16, -1.52655666e-16,\n",
       "          1.00000000e+00,  1.00000000e+00]])"
      ]
     },
     "execution_count": 8,
     "metadata": {},
     "output_type": "execute_result"
    }
   ],
   "source": [
    "Sig3=mat([[Sigma[0], 0, 0],[0, Sigma[1], 0], [0, 0, Sigma[2]]])\n",
    "U[:,:3]*Sig3*VT[:3,:]"
   ]
  },
  {
   "cell_type": "code",
   "execution_count": 9,
   "metadata": {},
   "outputs": [],
   "source": [
    "# 欧式距离函数 -> 相似度\n",
    "def ecludSim(inA,inB):\n",
    "    # la.form求A和B的欧式距离\n",
    "    # 距离与相似度程相反的关系，因此取倒数\n",
    "    # 为防止分母为0，求得的距离再加1\n",
    "    # 计算结果为(0, 1]\n",
    "    # 缺点：一个特征不一样就会导致距离很大\n",
    "    #print(inA, inB)\n",
    "    return 1.0/(1.0 + la.norm(inA - inB))\n",
    "\n",
    "# pearson相似度\n",
    "def pearsSim(inA,inB):\n",
    "    # 判断两组数据与某一直线的拟合程度\n",
    "    # 优点：数据不规范时效果好\n",
    "    if len(inA) < 3 : return 1.0\n",
    "    # 结果为[-1,1]，需要转到[0,1]区间\n",
    "    return 0.5+0.5*corrcoef(inA, inB, rowvar = 0)[0][1]\n",
    "\n",
    "# 余弦相似度：只考虑两组数据之间的夹角\n",
    "def cosSim(inA,inB):\n",
    "    # 不会因为文章的长度不同导致结果偏差太大\n",
    "    # 结果为[-1,1]，需要转到[0,1]区间\n",
    "    num = float(inA.T.dot(inB))\n",
    "    denom = la.norm(inA)*la.norm(inB)\n",
    "    return 0.5+0.5*(num/denom)"
   ]
  },
  {
   "cell_type": "code",
   "execution_count": 10,
   "metadata": {},
   "outputs": [
    {
     "data": {
      "text/plain": [
       "0.13367660240019172"
      ]
     },
     "execution_count": 10,
     "metadata": {},
     "output_type": "execute_result"
    }
   ],
   "source": [
    "myMat=np.array(loadExData())\n",
    "ecludSim(myMat[:,0],myMat[:,4])  # 三种距离的计算结果都和书上不一样，难道是用的数据不同？"
   ]
  },
  {
   "cell_type": "code",
   "execution_count": 11,
   "metadata": {},
   "outputs": [
    {
     "data": {
      "text/plain": [
       "1.0"
      ]
     },
     "execution_count": 11,
     "metadata": {},
     "output_type": "execute_result"
    }
   ],
   "source": [
    "ecludSim(myMat[:,0],myMat[:,0])"
   ]
  },
  {
   "cell_type": "code",
   "execution_count": 12,
   "metadata": {},
   "outputs": [
    {
     "data": {
      "text/plain": [
       "0.5472455591261534"
      ]
     },
     "execution_count": 12,
     "metadata": {},
     "output_type": "execute_result"
    }
   ],
   "source": [
    "cosSim(myMat[:,0],myMat[:,4])"
   ]
  },
  {
   "cell_type": "code",
   "execution_count": 13,
   "metadata": {},
   "outputs": [
    {
     "data": {
      "text/plain": [
       "0.9999999999999999"
      ]
     },
     "execution_count": 13,
     "metadata": {},
     "output_type": "execute_result"
    }
   ],
   "source": [
    "cosSim(myMat[:,0],myMat[:,0])"
   ]
  },
  {
   "cell_type": "code",
   "execution_count": 14,
   "metadata": {},
   "outputs": [
    {
     "data": {
      "text/plain": [
       "0.23768619407595815"
      ]
     },
     "execution_count": 14,
     "metadata": {},
     "output_type": "execute_result"
    }
   ],
   "source": [
    "pearsSim(myMat[:,0],myMat[:,4])"
   ]
  },
  {
   "cell_type": "code",
   "execution_count": 15,
   "metadata": {},
   "outputs": [
    {
     "data": {
      "text/plain": [
       "1.0"
      ]
     },
     "execution_count": 15,
     "metadata": {},
     "output_type": "execute_result"
    }
   ],
   "source": [
    "pearsSim(myMat[:,0],myMat[:,0])"
   ]
  },
  {
   "cell_type": "code",
   "execution_count": 16,
   "metadata": {},
   "outputs": [],
   "source": [
    "def standEst(dataMat, user, simMeas, dishId):\n",
    "    totalSim, totalScore = 0, 0\n",
    "    # 找出user对其它dish的点评\n",
    "    for j in range(dataMat.shape[1]):\n",
    "        if dataMat[user, j] == 0:continue\n",
    "        # 假如user对j有点评，找出对dishID和j都有点评的人\n",
    "        overlap = np.array(dataMat[:,j]>0) & np.array(dataMat[:,dishId]>0)\n",
    "        # 根据这些人对j的评价和对dishId的评价，计算j和dishId的相似度\n",
    "        if dataMat[overlap].shape[0] == 0:sim = 0\n",
    "        else: sim = simMeas(dataMat[overlap, j], dataMat[overlap, dishId])\n",
    "        # 以相似度为权值，根据user对j的评价来估计user对dishId的评价\n",
    "        totalScore += sim * dataMat[user, j]\n",
    "        totalSim += sim\n",
    "    if totalScore == 0:return 0\n",
    "    return totalScore/totalSim\n",
    "    \n",
    "# dataMat:一行代表一个User，一列代表一个菜\n",
    "def recommend(dataMat, user, N=3, simMeas=cosSim, estMethod=standEst):\n",
    "    # 1 Look for things the user hasn’t yet rated: look for values with 0 in the user-item matrix.\n",
    "    notRatedDishId = np.arange(dataMat.shape[1])[dataMat[user,:]==0]\n",
    "    # 2 Of all the items this user hasn’t yet rated, find a projected rating for each item:\n",
    "    # that is, what score do we think the user will give to this item? \n",
    "    notRatedScorePredict = []\n",
    "    for dishId in notRatedDishId:\n",
    "        # print (dishId)\n",
    "        notRatedScorePredict.append((dishId, estMethod(dataMat, user, simMeas, dishId)))\n",
    "    # 3 Sort the list in descending order and return the first N items.\n",
    "    notRatedScorePredict.sort(key=lambda p:p[1],reverse=True)\n",
    "    return notRatedScorePredict"
   ]
  },
  {
   "cell_type": "code",
   "execution_count": 17,
   "metadata": {},
   "outputs": [],
   "source": [
    "def loadExData_2():\n",
    "    return[[1, 1, 0, 2, 2],\n",
    "            [2, 0, 0, 3, 3],\n",
    "            [1, 0, 0, 1, 1],\n",
    "            [1, 1, 1, 2, 0],\n",
    "            [2, 2, 2, 0, 0],\n",
    "            [1, 1, 1, 0, 0],\n",
    "            [5, 5, 5, 0, 0]]"
   ]
  },
  {
   "cell_type": "code",
   "execution_count": 18,
   "metadata": {},
   "outputs": [
    {
     "data": {
      "text/plain": [
       "array([[4, 4, 0, 2, 2],\n",
       "       [4, 0, 0, 3, 3],\n",
       "       [4, 0, 0, 1, 1],\n",
       "       [1, 1, 1, 2, 0],\n",
       "       [2, 2, 2, 0, 0],\n",
       "       [1, 1, 1, 0, 0],\n",
       "       [5, 5, 5, 0, 0]])"
      ]
     },
     "execution_count": 18,
     "metadata": {},
     "output_type": "execute_result"
    }
   ],
   "source": [
    "myMat=np.array(loadExData_2())\n",
    "myMat[0,1]=myMat[0,0]=myMat[1,0]=myMat[2,0]=4\n",
    "myMat[3,3]=2\n",
    "myMat"
   ]
  },
  {
   "cell_type": "code",
   "execution_count": 19,
   "metadata": {},
   "outputs": [
    {
     "data": {
      "text/plain": [
       "[(2, 2.5), (1, 2.0243290220056256)]"
      ]
     },
     "execution_count": 19,
     "metadata": {},
     "output_type": "execute_result"
    }
   ],
   "source": [
    "recommend(myMat, 2)  # 跟书上结果不一样，不知道哪里搞错了"
   ]
  },
  {
   "cell_type": "code",
   "execution_count": 20,
   "metadata": {},
   "outputs": [
    {
     "data": {
      "text/plain": [
       "[(2, 3.0), (1, 2.8266504712098603)]"
      ]
     },
     "execution_count": 20,
     "metadata": {},
     "output_type": "execute_result"
    }
   ],
   "source": [
    "recommend(myMat, 2, simMeas=ecludSim)"
   ]
  },
  {
   "cell_type": "code",
   "execution_count": 21,
   "metadata": {},
   "outputs": [
    {
     "data": {
      "text/plain": [
       "[(2, 2.5), (1, 2.0)]"
      ]
     },
     "execution_count": 21,
     "metadata": {},
     "output_type": "execute_result"
    }
   ],
   "source": [
    "recommend(myMat, 2, simMeas=pearsSim)"
   ]
  },
  {
   "cell_type": "code",
   "execution_count": 22,
   "metadata": {},
   "outputs": [],
   "source": [
    "def loadExData2():\n",
    "    return[[0, 0, 0, 0, 0, 4, 0, 0, 0, 0, 5],\n",
    "           [0, 0, 0, 3, 0, 4, 0, 0, 0, 0, 3],\n",
    "           [0, 0, 0, 0, 4, 0, 0, 1, 0, 4, 0],\n",
    "           [3, 3, 4, 0, 0, 0, 0, 2, 2, 0, 0],\n",
    "           [5, 4, 5, 0, 0, 0, 0, 5, 5, 0, 0],\n",
    "           [0, 0, 0, 0, 5, 0, 1, 0, 0, 5, 0],\n",
    "           [4, 3, 4, 0, 0, 0, 0, 5, 5, 0, 1],\n",
    "           [0, 0, 0, 4, 0, 4, 0, 0, 0, 0, 4],\n",
    "           [0, 0, 0, 2, 0, 2, 5, 0, 0, 1, 2],\n",
    "           [0, 0, 0, 0, 5, 0, 0, 0, 0, 4, 0],\n",
    "           [1, 0, 0, 0, 0, 0, 0, 1, 2, 0, 0]]"
   ]
  },
  {
   "cell_type": "code",
   "execution_count": 34,
   "metadata": {},
   "outputs": [
    {
     "data": {
      "text/plain": [
       "array([15.77075346, 11.40670395, 11.03044558,  4.84639758,  3.09292055,\n",
       "        2.58097379,  1.00413543,  0.72817072,  0.43800353,  0.22082113,\n",
       "        0.07367823])"
      ]
     },
     "execution_count": 34,
     "metadata": {},
     "output_type": "execute_result"
    }
   ],
   "source": [
    "from numpy import linalg as la\n",
    "myMat = np.array(loadExData2())\n",
    "U,Sigma,VT=la.svd(myMat)   # 从文件夹里找到的函数\n",
    "Sigma   # 跟书上不一样？"
   ]
  },
  {
   "cell_type": "code",
   "execution_count": 35,
   "metadata": {},
   "outputs": [
    {
     "data": {
      "text/plain": [
       "541.9999999999995"
      ]
     },
     "execution_count": 35,
     "metadata": {},
     "output_type": "execute_result"
    }
   ],
   "source": [
    "Sig2=Sigma**2\n",
    "sum(Sig2)"
   ]
  },
  {
   "cell_type": "code",
   "execution_count": 36,
   "metadata": {},
   "outputs": [
    {
     "data": {
      "text/plain": [
       "487.7999999999996"
      ]
     },
     "execution_count": 36,
     "metadata": {},
     "output_type": "execute_result"
    }
   ],
   "source": [
    "sum(Sig2)*0.9"
   ]
  },
  {
   "cell_type": "code",
   "execution_count": 37,
   "metadata": {},
   "outputs": [
    {
     "data": {
      "text/plain": [
       "378.8295595113579"
      ]
     },
     "execution_count": 37,
     "metadata": {},
     "output_type": "execute_result"
    }
   ],
   "source": [
    "sum(Sig2[:2])"
   ]
  },
  {
   "cell_type": "code",
   "execution_count": 38,
   "metadata": {},
   "outputs": [
    {
     "data": {
      "text/plain": [
       "500.5002891275793"
      ]
     },
     "execution_count": 38,
     "metadata": {},
     "output_type": "execute_result"
    }
   ],
   "source": [
    "sum(Sig2[:3])"
   ]
  },
  {
   "cell_type": "code",
   "execution_count": 71,
   "metadata": {},
   "outputs": [],
   "source": [
    "def svdEst(dataMat, user, simMeas, dishId):\n",
    "    # 先对dataMat做SVD分解\n",
    "    U,Sigma,VT = la.svd(dataMat)\n",
    "    # 把Sigma转成对角矩阵\n",
    "    Sig4 = np.eye(4) * Sigma[:4]\n",
    "    # 对dataMat变形，仅包含前4个奇异特征\n",
    "    # 不知道书上为什么是U*sigma*data.T，但前面的介绍说是U*sigma*VT\n",
    "    # 计算结果与书上不太一样，但总体上差不多\n",
    "    xformedItems = U[:,:4].dot(Sig4).dot(VT[:4,:])\n",
    "    #xformedItems = (dataMat.T.dot(U[:,:4]).dot(np.mat(Sig4).I)).T\n",
    "    totalSim, totalScore = 0, 0\n",
    "    # 找出user对其它dish的点评\n",
    "    for j in range(dataMat.shape[1]):\n",
    "        if dataMat[user, j] == 0:continue\n",
    "        # 为什么要把overlap那一段去掉了呢？\n",
    "        sim = simMeas(xformedItems[:, j], xformedItems[:, dishId]) # 计算相似度时使用去噪之后的data\n",
    "        print ('the %d and %d similarity is: %f' % (dishId, j, sim))\n",
    "        # 以相似度为权值，根据user对j的评价来估计user对dishId的评价\n",
    "        totalScore += sim * dataMat[user, j]\n",
    "        totalSim += sim\n",
    "    if totalScore == 0:return 0\n",
    "    return totalScore/totalSim"
   ]
  },
  {
   "cell_type": "code",
   "execution_count": 72,
   "metadata": {},
   "outputs": [
    {
     "name": "stdout",
     "output_type": "stream",
     "text": [
      "the 0 and 3 similarity is: 0.498297\n",
      "the 0 and 5 similarity is: 0.498702\n",
      "the 0 and 10 similarity is: 0.540399\n",
      "the 1 and 3 similarity is: 0.497432\n",
      "the 1 and 5 similarity is: 0.497414\n",
      "the 1 and 10 similarity is: 0.539074\n",
      "the 2 and 3 similarity is: 0.497835\n",
      "the 2 and 5 similarity is: 0.497894\n",
      "the 2 and 10 similarity is: 0.539558\n",
      "the 4 and 3 similarity is: 0.495847\n",
      "the 4 and 5 similarity is: 0.500120\n",
      "the 4 and 10 similarity is: 0.501394\n",
      "the 6 and 3 similarity is: 0.750797\n",
      "the 6 and 5 similarity is: 0.636231\n",
      "the 6 and 10 similarity is: 0.623186\n",
      "the 7 and 3 similarity is: 0.500010\n",
      "the 7 and 5 similarity is: 0.502570\n",
      "the 7 and 10 similarity is: 0.544420\n",
      "the 8 and 3 similarity is: 0.500932\n",
      "the 8 and 5 similarity is: 0.502238\n",
      "the 8 and 10 similarity is: 0.544006\n",
      "the 9 and 3 similarity is: 0.530070\n",
      "the 9 and 5 similarity is: 0.518088\n",
      "the 9 and 10 similarity is: 0.517555\n"
     ]
    },
    {
     "data": {
      "text/plain": [
       "[(4, 3.334001055799355),\n",
       " (9, 3.330895617349481),\n",
       " (7, 3.3248674803258678),\n",
       " (8, 3.324616235400013),\n",
       " (0, 3.32438068443843),\n",
       " (2, 3.3243000943728127),\n",
       " (1, 3.324276526003641),\n",
       " (6, 3.3164990076214846)]"
      ]
     },
     "execution_count": 72,
     "metadata": {},
     "output_type": "execute_result"
    }
   ],
   "source": [
    "recommend(myMat, 1, estMethod=svdEst)"
   ]
  },
  {
   "cell_type": "code",
   "execution_count": 73,
   "metadata": {},
   "outputs": [
    {
     "name": "stdout",
     "output_type": "stream",
     "text": [
      "the 0 and 3 similarity is: 0.260009\n",
      "the 0 and 5 similarity is: 0.267319\n",
      "the 0 and 10 similarity is: 0.304773\n",
      "the 1 and 3 similarity is: 0.259671\n",
      "the 1 and 5 similarity is: 0.266348\n",
      "the 1 and 10 similarity is: 0.303700\n",
      "the 2 and 3 similarity is: 0.259959\n",
      "the 2 and 5 similarity is: 0.266751\n",
      "the 2 and 10 similarity is: 0.304128\n",
      "the 4 and 3 similarity is: 0.269958\n",
      "the 4 and 5 similarity is: 0.282481\n",
      "the 4 and 10 similarity is: 0.259976\n",
      "the 6 and 3 similarity is: 0.693294\n",
      "the 6 and 5 similarity is: 0.543264\n",
      "the 6 and 10 similarity is: 0.517233\n",
      "the 7 and 3 similarity is: 0.237709\n",
      "the 7 and 5 similarity is: 0.248966\n",
      "the 7 and 10 similarity is: 0.286199\n",
      "the 8 and 3 similarity is: 0.261446\n",
      "the 8 and 5 similarity is: 0.270112\n",
      "the 8 and 10 similarity is: 0.307803\n",
      "the 9 and 3 similarity is: 0.299239\n",
      "the 9 and 5 similarity is: 0.288007\n",
      "the 9 and 10 similarity is: 0.261465\n"
     ]
    },
    {
     "data": {
      "text/plain": [
       "[(4, 3.3477049430350485),\n",
       " (9, 3.3393469031787215),\n",
       " (7, 3.3221301186012315),\n",
       " (8, 3.321806644564644),\n",
       " (0, 3.3212579735685965),\n",
       " (2, 3.3210621579633552),\n",
       " (1, 3.321009939503826),\n",
       " (6, 3.309765500739301)]"
      ]
     },
     "execution_count": 73,
     "metadata": {},
     "output_type": "execute_result"
    }
   ],
   "source": [
    "recommend(myMat, 1, estMethod=svdEst,simMeas=pearsSim)"
   ]
  },
  {
   "cell_type": "code",
   "execution_count": 78,
   "metadata": {},
   "outputs": [],
   "source": [
    "def printMat(inMat, thresh=0.8):\n",
    "    for i in range(32):\n",
    "        for k in range(32):\n",
    "            if float(inMat[i,k]) > thresh:\n",
    "                print ('1,')\n",
    "            else: print ('0,')\n",
    "        print ('')\n",
    "\n",
    "def imgCompress(numSV=3, thresh=0.8):\n",
    "    myl = []\n",
    "    for line in open('0_5.txt').readlines():\n",
    "        myl.append(line[:32])\n",
    "    myMat = np.array(myl)\n",
    "    print (\"****original matrix******\")\n",
    "    printMat(myMat, thresh)\n",
    "    U,Sigma,VT = la.svd(myMat)\n",
    "    SigN = np.eye(numSV) * Sigma[:numSV]\n",
    "    reconMat = U[:,:numSV]*SigN*VT[:numSV,:]\n",
    "    print (\"****reconstructed matrix using %d singular values******\" % numSV)\n",
    "    printMat(reconMat, thresh)"
   ]
  },
  {
   "cell_type": "code",
   "execution_count": 79,
   "metadata": {},
   "outputs": [
    {
     "ename": "FileNotFoundError",
     "evalue": "[Errno 2] No such file or directory: '0_5.txt'",
     "output_type": "error",
     "traceback": [
      "\u001b[1;31m---------------------------------------------------------------------------\u001b[0m",
      "\u001b[1;31mFileNotFoundError\u001b[0m                         Traceback (most recent call last)",
      "\u001b[1;32m<ipython-input-79-d3c2437f37dd>\u001b[0m in \u001b[0;36m<module>\u001b[1;34m\u001b[0m\n\u001b[1;32m----> 1\u001b[1;33m \u001b[0mimgCompress\u001b[0m\u001b[1;33m(\u001b[0m\u001b[1;36m2\u001b[0m\u001b[1;33m)\u001b[0m\u001b[1;33m\u001b[0m\u001b[1;33m\u001b[0m\u001b[0m\n\u001b[0m",
      "\u001b[1;32m<ipython-input-78-09217475a0be>\u001b[0m in \u001b[0;36mimgCompress\u001b[1;34m(numSV, thresh)\u001b[0m\n\u001b[0;32m      9\u001b[0m \u001b[1;32mdef\u001b[0m \u001b[0mimgCompress\u001b[0m\u001b[1;33m(\u001b[0m\u001b[0mnumSV\u001b[0m\u001b[1;33m=\u001b[0m\u001b[1;36m3\u001b[0m\u001b[1;33m,\u001b[0m \u001b[0mthresh\u001b[0m\u001b[1;33m=\u001b[0m\u001b[1;36m0.8\u001b[0m\u001b[1;33m)\u001b[0m\u001b[1;33m:\u001b[0m\u001b[1;33m\u001b[0m\u001b[1;33m\u001b[0m\u001b[0m\n\u001b[0;32m     10\u001b[0m     \u001b[0mmyl\u001b[0m \u001b[1;33m=\u001b[0m \u001b[1;33m[\u001b[0m\u001b[1;33m]\u001b[0m\u001b[1;33m\u001b[0m\u001b[1;33m\u001b[0m\u001b[0m\n\u001b[1;32m---> 11\u001b[1;33m     \u001b[1;32mfor\u001b[0m \u001b[0mline\u001b[0m \u001b[1;32min\u001b[0m \u001b[0mopen\u001b[0m\u001b[1;33m(\u001b[0m\u001b[1;34m'0_5.txt'\u001b[0m\u001b[1;33m)\u001b[0m\u001b[1;33m.\u001b[0m\u001b[0mreadlines\u001b[0m\u001b[1;33m(\u001b[0m\u001b[1;33m)\u001b[0m\u001b[1;33m:\u001b[0m\u001b[1;33m\u001b[0m\u001b[1;33m\u001b[0m\u001b[0m\n\u001b[0m\u001b[0;32m     12\u001b[0m         \u001b[0mmyl\u001b[0m\u001b[1;33m.\u001b[0m\u001b[0mappend\u001b[0m\u001b[1;33m(\u001b[0m\u001b[0mline\u001b[0m\u001b[1;33m[\u001b[0m\u001b[1;33m:\u001b[0m\u001b[1;36m32\u001b[0m\u001b[1;33m]\u001b[0m\u001b[1;33m)\u001b[0m\u001b[1;33m\u001b[0m\u001b[1;33m\u001b[0m\u001b[0m\n\u001b[0;32m     13\u001b[0m     \u001b[0mmyMat\u001b[0m \u001b[1;33m=\u001b[0m \u001b[0mnp\u001b[0m\u001b[1;33m.\u001b[0m\u001b[0marray\u001b[0m\u001b[1;33m(\u001b[0m\u001b[0mmyl\u001b[0m\u001b[1;33m)\u001b[0m\u001b[1;33m\u001b[0m\u001b[1;33m\u001b[0m\u001b[0m\n",
      "\u001b[1;31mFileNotFoundError\u001b[0m: [Errno 2] No such file or directory: '0_5.txt'"
     ]
    }
   ],
   "source": [
    "imgCompress(2)"
   ]
  },
  {
   "cell_type": "code",
   "execution_count": null,
   "metadata": {},
   "outputs": [],
   "source": []
  }
 ],
 "metadata": {
  "kernelspec": {
   "display_name": "Python 3",
   "language": "python",
   "name": "python3"
  },
  "language_info": {
   "codemirror_mode": {
    "name": "ipython",
    "version": 3
   },
   "file_extension": ".py",
   "mimetype": "text/x-python",
   "name": "python",
   "nbconvert_exporter": "python",
   "pygments_lexer": "ipython3",
   "version": "3.7.3"
  }
 },
 "nbformat": 4,
 "nbformat_minor": 2
}
