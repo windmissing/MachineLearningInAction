{
 "cells": [
  {
   "cell_type": "code",
   "execution_count": 1,
   "metadata": {},
   "outputs": [],
   "source": [
    "import numpy as np\n",
    "import adaboost\n",
    "import utils"
   ]
  },
  {
   "cell_type": "markdown",
   "metadata": {},
   "source": [
    "# 一个简单的人造数据"
   ]
  },
  {
   "cell_type": "code",
   "execution_count": 2,
   "metadata": {},
   "outputs": [
    {
     "name": "stdout",
     "output_type": "stream",
     "text": [
      "datMat =  [[1.  2.1]\n",
      " [2.  1.1]\n",
      " [1.3 1. ]\n",
      " [1.  1. ]\n",
      " [2.  1. ]]\n",
      "classLabels =  [1.0, 1.0, -1.0, -1.0, 1.0]\n"
     ]
    }
   ],
   "source": [
    "datMat,classLabels=utils.loadSimpData()\n",
    "print (\"datMat = \", datMat)\n",
    "print (\"classLabels = \", classLabels)"
   ]
  },
  {
   "cell_type": "markdown",
   "metadata": {},
   "source": [
    "Expect Result:  \n",
    "\n",
    "datMat =  [[1.  2.1]  \n",
    " [2.  1.1]  \n",
    " [1.3 1. ]  \n",
    " [1.  1. ]  \n",
    " [2.  1. ]]  \n",
    "classLabels =  [1.0, 1.0, -1.0, -1.0, 1.0]"
   ]
  },
  {
   "cell_type": "code",
   "execution_count": 3,
   "metadata": {},
   "outputs": [
    {
     "name": "stdout",
     "output_type": "stream",
     "text": [
      "bestStump =  {'feature': 0, 'value': 1.3, 'ineq': 'lt'}\n",
      "bestClasEst =  [-1.  1. -1. -1.  1.]\n",
      "minError =  0.2\n"
     ]
    }
   ],
   "source": [
    "D = np.ones(5)/5   # 平均权重\n",
    "bestStump, bestClasEst, minError = adaboost.buildStump(datMat,classLabels,D)\n",
    "print (\"bestStump = \", bestStump)\n",
    "print (\"bestClasEst = \", bestClasEst)\n",
    "print (\"minError = \", minError)"
   ]
  },
  {
   "cell_type": "markdown",
   "metadata": {},
   "source": [
    "Expect Result:  \n",
    "\n",
    "bestStump =  {'feature': 0, 'value': 1.3, 'ineq': 'lt'}  \n",
    "bestClasEst =  [-1.  1. -1. -1.  1.]  \n",
    "minError =  0.2  "
   ]
  },
  {
   "cell_type": "code",
   "execution_count": 4,
   "metadata": {},
   "outputs": [
    {
     "name": "stdout",
     "output_type": "stream",
     "text": [
      "weekClassifier =  [{'feature': 0, 'value': 1.3, 'ineq': 'lt', 'alpha': 0.6931471805599453}, {'feature': 1, 'value': 1.0, 'ineq': 'lt', 'alpha': 0.9729550745276565}, {'feature': 0, 'value': 0.9, 'ineq': 'lt', 'alpha': 0.8958797346140273}]\n",
      "aggPredict =  [ 1.17568763  2.56198199 -0.77022252 -0.77022252  0.61607184]\n"
     ]
    }
   ],
   "source": [
    "datArr,labelArr = utils.loadSimpData()\n",
    "weekClassifier, aggPredict = adaboost.adaBoostTrainDS(datMat,classLabels,9)\n",
    "print (\"weekClassifier = \", weekClassifier)\n",
    "print (\"aggPredict = \", aggPredict)"
   ]
  },
  {
   "cell_type": "markdown",
   "metadata": {},
   "source": [
    "Expect Result:  \n",
    "\n",
    "D= [0.2 0.2 0.2 0.2 0.2]  \n",
    "predict:  [-1.  1. -1. -1.  1.]  \n",
    "aggpredict= [-0.69314718  0.69314718 -0.69314718 -0.69314718  0.69314718]  \n",
    "total error:  0.2  \n",
    "D= [0.5   0.125 0.125 0.125 0.125]  \n",
    "predict:  [ 1.  1. -1. -1. -1.]  \n",
    "aggpredict= [ 0.27980789  1.66610226 -1.66610226 -1.66610226 -0.27980789]  \n",
    "total error:  0.2  \n",
    "D= [0.28571429 0.07142857 0.07142857 0.07142857 0.5       ]  \n",
    "predict:  [1. 1. 1. 1. 1.]  \n",
    "aggpredict= [ 1.17568763  2.56198199 -0.77022252 -0.77022252  0.61607184]  \n",
    "total error:  0.0  \n",
    "weekClassifier =  [{'feature': 0, 'value': 1.3, 'ineq': 'lt', 'alpha': 0.6931471805599453}, {'feature': 1, 'value': 1.0, 'ineq': 'lt', 'alpha': 0.9729550745276565}, {'feature': 0, 'value': 0.9, 'ineq': 'lt', 'alpha': 0.8958797346140273}]  \n",
    "aggPredict =  [ 1.17568763  2.56198199 -0.77022252 -0.77022252  0.61607184]  "
   ]
  },
  {
   "cell_type": "code",
   "execution_count": 5,
   "metadata": {},
   "outputs": [
    {
     "data": {
      "text/plain": [
       "array([ 1., -1.])"
      ]
     },
     "execution_count": 5,
     "metadata": {},
     "output_type": "execute_result"
    }
   ],
   "source": [
    "adaboost.adaClassify([[5, 5],[0,0]],weekClassifier)"
   ]
  },
  {
   "cell_type": "markdown",
   "metadata": {},
   "source": [
    "[ 2.56198199 -2.56198199]  \n",
    "array([ 1., -1.])"
   ]
  },
  {
   "cell_type": "markdown",
   "metadata": {},
   "source": [
    "# Horse Colic Data Test"
   ]
  },
  {
   "cell_type": "code",
   "execution_count": 6,
   "metadata": {},
   "outputs": [
    {
     "name": "stdout",
     "output_type": "stream",
     "text": [
      "accuracy =  0.7611940298507462\n"
     ]
    }
   ],
   "source": [
    "datArr,labelArr = utils.loadDataSet('horseColicTraining2.txt')\n",
    "classifierArray, _ = adaboost.adaBoostTrainDS(datArr,labelArr,10)\n",
    "testArr,testLabelArr = utils.loadDataSet('horseColicTest2.txt')\n",
    "prediction10 = adaboost.adaClassify(testArr,classifierArray)\n",
    "accuracy = utils.calculateAccuray(prediction10, testLabelArr)\n",
    "print (\"accuracy = \", accuracy)"
   ]
  },
  {
   "cell_type": "markdown",
   "metadata": {},
   "source": [
    "Expect Result:  \n",
    "accuracy =  0.7611940298507462"
   ]
  },
  {
   "cell_type": "markdown",
   "metadata": {},
   "source": [
    "参考：https://windmising.gitbook.io/liu-yu-bo-play-with-machine-learning/10-1/10-7"
   ]
  },
  {
   "cell_type": "markdown",
   "metadata": {},
   "source": [
    "# ROC曲线"
   ]
  },
  {
   "cell_type": "code",
   "execution_count": 7,
   "metadata": {},
   "outputs": [],
   "source": [
    "datArr,labelArr = utils.loadDataSet('horseColicTraining2.txt')"
   ]
  },
  {
   "cell_type": "code",
   "execution_count": 8,
   "metadata": {},
   "outputs": [],
   "source": [
    "classifierArray,aggClassEst = adaboost.adaBoostTrainDS(datArr,labelArr,10)"
   ]
  },
  {
   "cell_type": "code",
   "execution_count": 9,
   "metadata": {},
   "outputs": [
    {
     "data": {
      "image/png": "[encoded data removed]",
      "text/plain": [
       "<Figure size 432x288 with 1 Axes>"
      ]
     },
     "metadata": {
      "needs_background": "light"
     },
     "output_type": "display_data"
    }
   ],
   "source": [
    "utils.plotROC(aggClassEst,labelArr)"
   ]
  },
  {
   "cell_type": "code",
   "execution_count": null,
   "metadata": {},
   "outputs": [],
   "source": []
  }
 ],
 "metadata": {
  "kernelspec": {
   "display_name": "Python 3",
   "language": "python",
   "name": "python3"
  },
  "language_info": {
   "codemirror_mode": {
    "name": "ipython",
    "version": 3
   },
   "file_extension": ".py",
   "mimetype": "text/x-python",
   "name": "python",
   "nbconvert_exporter": "python",
   "pygments_lexer": "ipython3",
   "version": "3.7.6"
  }
 },
 "nbformat": 4,
 "nbformat_minor": 2
}
