{
 "cells": [
  {
   "cell_type": "code",
   "execution_count": 1,
   "metadata": {},
   "outputs": [],
   "source": [
    "import numpy as np\n",
    "import adaboost\n",
    "import utils"
   ]
  },
  {
   "cell_type": "markdown",
   "metadata": {},
   "source": [
    "# 一个简单的人造数据"
   ]
  },
  {
   "cell_type": "code",
   "execution_count": 2,
   "metadata": {},
   "outputs": [
    {
     "name": "stdout",
     "output_type": "stream",
     "text": [
      "datMat =  [[1.  2.1]\n",
      " [2.  1.1]\n",
      " [1.3 1. ]\n",
      " [1.  1. ]\n",
      " [2.  1. ]]\n",
      "classLabels =  [1.0, 1.0, -1.0, -1.0, 1.0]\n"
     ]
    }
   ],
   "source": [
    "datMat,classLabels=utils.loadSimpData()\n",
    "print (\"datMat = \", datMat)\n",
    "print (\"classLabels = \", classLabels)"
   ]
  },
  {
   "cell_type": "markdown",
   "metadata": {},
   "source": [
    "Expect Result:  \n",
    "\n",
    "datMat =  [[1.  2.1]  \n",
    " [2.  1.1]  \n",
    " [1.3 1. ]  \n",
    " [1.  1. ]  \n",
    " [2.  1. ]]  \n",
    "classLabels =  [1.0, 1.0, -1.0, -1.0, 1.0]"
   ]
  },
  {
   "cell_type": "code",
   "execution_count": 3,
   "metadata": {},
   "outputs": [
    {
     "name": "stdout",
     "output_type": "stream",
     "text": [
      "bestStump =  {'feature': 0, 'value': 1.3, 'ineq': 'lt'}\n",
      "bestClasEst =  [-1.  1. -1. -1.  1.]\n",
      "minError =  0.2\n"
     ]
    }
   ],
   "source": [
    "D = np.ones(5)/5   # 平均权重\n",
    "bestStump, bestClasEst, minError = adaboost.buildStump(datMat,classLabels,D)\n",
    "print (\"bestStump = \", bestStump)\n",
    "print (\"bestClasEst = \", bestClasEst)\n",
    "print (\"minError = \", minError)"
   ]
  },
  {
   "cell_type": "markdown",
   "metadata": {},
   "source": [
    "Expect Result:  \n",
    "\n",
    "bestStump =  {'feature': 0, 'value': 1.3, 'ineq': 'lt'}  \n",
    "bestClasEst =  [-1.  1. -1. -1.  1.]  \n",
    "minError =  0.2  "
   ]
  },
  {
   "cell_type": "code",
   "execution_count": 4,
   "metadata": {},
   "outputs": [
    {
     "name": "stdout",
     "output_type": "stream",
     "text": [
      "D= [0.2 0.2 0.2 0.2 0.2]\n",
      "predict:  [-1.  1. -1. -1.  1.]\n",
      "aggpredict= [-0.69314718  0.69314718 -0.69314718 -0.69314718  0.69314718]\n",
      "total error:  0.2\n",
      "D= [0.5   0.125 0.125 0.125 0.125]\n",
      "predict:  [ 1.  1. -1. -1. -1.]\n",
      "aggpredict= [ 0.27980789  1.66610226 -1.66610226 -1.66610226 -0.27980789]\n",
      "total error:  0.2\n",
      "D= [0.28571429 0.07142857 0.07142857 0.07142857 0.5       ]\n",
      "predict:  [1. 1. 1. 1. 1.]\n",
      "aggpredict= [ 1.17568763  2.56198199 -0.77022252 -0.77022252  0.61607184]\n",
      "total error:  0.0\n",
      "weekClassifier =  [{'feature': 0, 'value': 1.3, 'ineq': 'lt', 'alpha': 0.6931471805599453}, {'feature': 1, 'value': 1.0, 'ineq': 'lt', 'alpha': 0.9729550745276565}, {'feature': 0, 'value': 0.9, 'ineq': 'lt', 'alpha': 0.8958797346140273}]\n",
      "aggPredict =  [ 1.17568763  2.56198199 -0.77022252 -0.77022252  0.61607184]\n"
     ]
    }
   ],
   "source": [
    "datArr,labelArr = utils.loadSimpData()\n",
    "weekClassifier, aggPredict = adaboost.adaBoostTrainDS(datMat,classLabels,9)\n",
    "print (\"weekClassifier = \", weekClassifier)\n",
    "print (\"aggPredict = \", aggPredict)"
   ]
  },
  {
   "cell_type": "markdown",
   "metadata": {},
   "source": [
    "Expect Result:  \n",
    "\n",
    "D= [0.2 0.2 0.2 0.2 0.2]  \n",
    "predict:  [-1.  1. -1. -1.  1.]  \n",
    "aggpredict= [-0.69314718  0.69314718 -0.69314718 -0.69314718  0.69314718]  \n",
    "total error:  0.2  \n",
    "D= [0.5   0.125 0.125 0.125 0.125]  \n",
    "predict:  [ 1.  1. -1. -1. -1.]  \n",
    "aggpredict= [ 0.27980789  1.66610226 -1.66610226 -1.66610226 -0.27980789]  \n",
    "total error:  0.2  \n",
    "D= [0.28571429 0.07142857 0.07142857 0.07142857 0.5       ]  \n",
    "predict:  [1. 1. 1. 1. 1.]  \n",
    "aggpredict= [ 1.17568763  2.56198199 -0.77022252 -0.77022252  0.61607184]  \n",
    "total error:  0.0  \n",
    "weekClassifier =  [{'feature': 0, 'value': 1.3, 'ineq': 'lt', 'alpha': 0.6931471805599453}, {'feature': 1, 'value': 1.0, 'ineq': 'lt', 'alpha': 0.9729550745276565}, {'feature': 0, 'value': 0.9, 'ineq': 'lt', 'alpha': 0.8958797346140273}]  \n",
    "aggPredict =  [ 1.17568763  2.56198199 -0.77022252 -0.77022252  0.61607184]  "
   ]
  },
  {
   "cell_type": "code",
   "execution_count": 5,
   "metadata": {},
   "outputs": [
    {
     "ename": "NameError",
     "evalue": "name 'classifierArr' is not defined",
     "output_type": "error",
     "traceback": [
      "\u001b[1;31m---------------------------------------------------------------------------\u001b[0m",
      "\u001b[1;31mNameError\u001b[0m                                 Traceback (most recent call last)",
      "\u001b[1;32m<ipython-input-5-a36af2f1416e>\u001b[0m in \u001b[0;36m<module>\u001b[1;34m\u001b[0m\n\u001b[1;32m----> 1\u001b[1;33m \u001b[0madaboost\u001b[0m\u001b[1;33m.\u001b[0m\u001b[0madaClassify\u001b[0m\u001b[1;33m(\u001b[0m\u001b[1;33m[\u001b[0m\u001b[1;33m[\u001b[0m\u001b[1;36m5\u001b[0m\u001b[1;33m,\u001b[0m \u001b[1;36m5\u001b[0m\u001b[1;33m]\u001b[0m\u001b[1;33m,\u001b[0m\u001b[1;33m[\u001b[0m\u001b[1;36m0\u001b[0m\u001b[1;33m,\u001b[0m\u001b[1;36m0\u001b[0m\u001b[1;33m]\u001b[0m\u001b[1;33m]\u001b[0m\u001b[1;33m,\u001b[0m\u001b[0mclassifierArr\u001b[0m\u001b[1;33m)\u001b[0m\u001b[1;33m\u001b[0m\u001b[1;33m\u001b[0m\u001b[0m\n\u001b[0m",
      "\u001b[1;31mNameError\u001b[0m: name 'classifierArr' is not defined"
     ]
    }
   ],
   "source": [
    "adaboost.adaClassify([[5, 5],[0,0]],classifierArr)"
   ]
  },
  {
   "cell_type": "markdown",
   "metadata": {},
   "source": [
    "[ 2.56198199 -2.56198199]  \n",
    "array([ 1., -1.])"
   ]
  },
  {
   "cell_type": "markdown",
   "metadata": {},
   "source": [
    "# Horse Colic Data Test"
   ]
  },
  {
   "cell_type": "code",
   "execution_count": null,
   "metadata": {},
   "outputs": [],
   "source": [
    "datArr,labelArr = utils.loadDataSet('horseColicTraining2.txt')\n",
    "classifierArray, _ = adaboost.adaBoostTrainDS(datArr,labelArr,10)\n",
    "testArr,testLabelArr = adaboost.loadDataSet('horseColicTest2.txt')\n",
    "prediction10 = adaboost.adaClassify(testArr,classifierArray)\n",
    "accuracy = utils.calculateAccuray(prediction10, testLabelArr)\n",
    "print (\"accuracy = \", accuracy)"
   ]
  },
  {
   "cell_type": "code",
   "execution_count": null,
   "metadata": {},
   "outputs": [],
   "source": [
    "datArr,labelArr = utils.loadDataSet('horseColicTraining2.txt')\n",
    "classifierArray, _ = adaboost.adaBoostTrainDS(datArr,labelArr,10)\n",
    "testArr,testLabelArr = adaboost.loadDataSet('horseColicTest2.txt')\n",
    "prediction10 = adaboost.adaClassify(testArr,classifierArray)"
   ]
  },
  {
   "cell_type": "code",
   "execution_count": null,
   "metadata": {},
   "outputs": [],
   "source": [
    "np.sum(prediction10!=np.array(testLabelArr))"
   ]
  },
  {
   "cell_type": "markdown",
   "metadata": {},
   "source": [
    "16"
   ]
  },
  {
   "cell_type": "markdown",
   "metadata": {},
   "source": [
    "参考：https://windmising.gitbook.io/liu-yu-bo-play-with-machine-learning/10-1/10-7"
   ]
  },
  {
   "cell_type": "code",
   "execution_count": null,
   "metadata": {},
   "outputs": [],
   "source": [
    "datArr,labelArr = adaboost.loadDataSet('horseColicTraining2.txt')"
   ]
  },
  {
   "cell_type": "code",
   "execution_count": null,
   "metadata": {},
   "outputs": [],
   "source": [
    "classifierArray,aggClassEst = adaboost.adaBoostTrainDS(datArr,labelArr,10)"
   ]
  },
  {
   "cell_type": "code",
   "execution_count": null,
   "metadata": {},
   "outputs": [],
   "source": [
    "def plotROC(predStrengths, classLabels):\n",
    "    import matplotlib.pyplot as plt\n",
    "    total = np.array([np.sum(np.array(classLabels) == 1), np.sum(np.array(classLabels) == -1)])\n",
    "    cur = total.copy()\n",
    "    rocNode = [cur/total]\n",
    "    print (rocNode)\n",
    "    sortedIndices = predStrengths.argsort()\n",
    "    print (predStrengths)\n",
    "    print (sortedIndices)\n",
    "    for index in sortedIndices:\n",
    "        if classLabels[index] == 1:\n",
    "            cur[0] -=1\n",
    "        else:\n",
    "            cur[1] -=1\n",
    "        rocNode.append(cur/total)\n",
    "    print (np.array(rocNode))\n",
    "    plt.plot(np.array(rocNode)[:,1], np.array(rocNode)[:, 0])\n",
    "    plt.show()"
   ]
  },
  {
   "cell_type": "code",
   "execution_count": null,
   "metadata": {},
   "outputs": [],
   "source": [
    "plotROC(aggClassEst,labelArr)"
   ]
  },
  {
   "cell_type": "code",
   "execution_count": null,
   "metadata": {},
   "outputs": [],
   "source": []
  }
 ],
 "metadata": {
  "kernelspec": {
   "display_name": "Python 3",
   "language": "python",
   "name": "python3"
  },
  "language_info": {
   "codemirror_mode": {
    "name": "ipython",
    "version": 3
   },
   "file_extension": ".py",
   "mimetype": "text/x-python",
   "name": "python",
   "nbconvert_exporter": "python",
   "pygments_lexer": "ipython3",
   "version": "3.7.3"
  }
 },
 "nbformat": 4,
 "nbformat_minor": 2
}
